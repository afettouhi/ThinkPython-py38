{
 "cells": [
  {
   "cell_type": "code",
   "execution_count": 1,
   "metadata": {
    "collapsed": true
   },
   "outputs": [
    {
     "name": "stdout",
     "output_type": "stream",
     "text": [
      "0.10950849552399233\n",
      "0.5617802877568536\n",
      "0.38903676018978106\n",
      "0.06166007536083118\n",
      "0.11343017651342668\n",
      "0.13809580849698\n",
      "0.5727574795228639\n",
      "0.34669927585369864\n",
      "0.9116873351055279\n",
      "0.0095304858790215\n"
     ]
    }
   ],
   "source": [
    "import random\n",
    "\n",
    "for i in range(10):\n",
    "    x = random.random()\n",
    "    print(x)"
   ]
  },
  {
   "cell_type": "code",
   "execution_count": 2,
   "outputs": [
    {
     "data": {
      "text/plain": "10"
     },
     "execution_count": 2,
     "metadata": {},
     "output_type": "execute_result"
    }
   ],
   "source": [
    "random.randint(5, 10)"
   ],
   "metadata": {
    "collapsed": false,
    "pycharm": {
     "name": "#%%\n"
    }
   }
  },
  {
   "cell_type": "code",
   "execution_count": 3,
   "outputs": [
    {
     "data": {
      "text/plain": "6"
     },
     "execution_count": 3,
     "metadata": {},
     "output_type": "execute_result"
    }
   ],
   "source": [
    "random.randint(5, 10)"
   ],
   "metadata": {
    "collapsed": false,
    "pycharm": {
     "name": "#%%\n"
    }
   }
  },
  {
   "cell_type": "code",
   "execution_count": 4,
   "outputs": [
    {
     "data": {
      "text/plain": "3"
     },
     "execution_count": 4,
     "metadata": {},
     "output_type": "execute_result"
    }
   ],
   "source": [
    "t = [1, 2, 3]\n",
    "random.choice(t)"
   ],
   "metadata": {
    "collapsed": false,
    "pycharm": {
     "name": "#%%\n"
    }
   }
  },
  {
   "cell_type": "code",
   "execution_count": 5,
   "outputs": [
    {
     "data": {
      "text/plain": "1"
     },
     "execution_count": 5,
     "metadata": {},
     "output_type": "execute_result"
    }
   ],
   "source": [
    "random.choice(t)"
   ],
   "metadata": {
    "collapsed": false,
    "pycharm": {
     "name": "#%%\n"
    }
   }
  },
  {
   "cell_type": "code",
   "execution_count": 7,
   "outputs": [],
   "source": [
    "import string\n",
    "\n",
    "def process_file(filename):\n",
    "    hist = dict()\n",
    "    fp = open(filename)\n",
    "    for line in fp:\n",
    "        process_line(line, hist)\n",
    "    return hist\n",
    "\n",
    "def process_line(line, hist):\n",
    "    line = line.replace('-', ' ')\n",
    "\n",
    "    for word in line.split():\n",
    "        word = word.strip(string.punctuation + string.whitespace)\n",
    "        word = word.lower()\n",
    "        hist[word] = hist.get(word, 0) + 1\n",
    "\n",
    "hist = process_file('../data/emma.txt')"
   ],
   "metadata": {
    "collapsed": false,
    "pycharm": {
     "name": "#%%\n"
    }
   }
  },
  {
   "cell_type": "code",
   "execution_count": 8,
   "outputs": [],
   "source": [
    "def total_words(hist):\n",
    "    return sum(hist.values())"
   ],
   "metadata": {
    "collapsed": false,
    "pycharm": {
     "name": "#%%\n"
    }
   }
  },
  {
   "cell_type": "code",
   "execution_count": 9,
   "outputs": [],
   "source": [
    "def different_words(hist):\n",
    "    return len(hist)"
   ],
   "metadata": {
    "collapsed": false,
    "pycharm": {
     "name": "#%%\n"
    }
   }
  },
  {
   "cell_type": "code",
   "execution_count": 10,
   "outputs": [
    {
     "name": "stdout",
     "output_type": "stream",
     "text": [
      "Total number of words: 162742\n",
      "Number of different words: 7460\n"
     ]
    }
   ],
   "source": [
    "print('Total number of words:', total_words(hist))\n",
    "print('Number of different words:', different_words(hist))"
   ],
   "metadata": {
    "collapsed": false,
    "pycharm": {
     "name": "#%%\n"
    }
   }
  },
  {
   "cell_type": "code",
   "execution_count": 11,
   "outputs": [],
   "source": [
    "def most_common(hist):\n",
    "    t = []\n",
    "    for key, value in hist.items():\n",
    "        t.append((value, key))\n",
    "\n",
    "    t.sort(reverse=True)\n",
    "    return t"
   ],
   "metadata": {
    "collapsed": false,
    "pycharm": {
     "name": "#%%\n"
    }
   }
  },
  {
   "cell_type": "code",
   "execution_count": 12,
   "outputs": [
    {
     "name": "stdout",
     "output_type": "stream",
     "text": [
      "The most common words are:\n",
      "to\t5295\n",
      "the\t5266\n",
      "and\t4931\n",
      "of\t4339\n",
      "i\t3191\n",
      "a\t3155\n",
      "it\t2546\n",
      "her\t2483\n",
      "was\t2400\n",
      "she\t2364\n"
     ]
    }
   ],
   "source": [
    "t = most_common(hist)\n",
    "print('The most common words are:')\n",
    "for freq, word in t[:10]:\n",
    "    print(word, freq, sep='\\t')"
   ],
   "metadata": {
    "collapsed": false,
    "pycharm": {
     "name": "#%%\n"
    }
   }
  },
  {
   "cell_type": "code",
   "execution_count": 13,
   "outputs": [],
   "source": [
    "def print_most_common(hist, num=10):\n",
    "    t = most_common(hist)\n",
    "    print('The most common words are:')\n",
    "    for freq, word in t[:num]:\n",
    "        print(word, freq, sep='\\t')"
   ],
   "metadata": {
    "collapsed": false,
    "pycharm": {
     "name": "#%%\n"
    }
   }
  },
  {
   "cell_type": "code",
   "execution_count": 14,
   "outputs": [
    {
     "name": "stdout",
     "output_type": "stream",
     "text": [
      "The most common words are:\n",
      "to\t5295\n",
      "the\t5266\n",
      "and\t4931\n",
      "of\t4339\n",
      "i\t3191\n",
      "a\t3155\n",
      "it\t2546\n",
      "her\t2483\n",
      "was\t2400\n",
      "she\t2364\n"
     ]
    }
   ],
   "source": [
    "print_most_common(hist)"
   ],
   "metadata": {
    "collapsed": false,
    "pycharm": {
     "name": "#%%\n"
    }
   }
  },
  {
   "cell_type": "code",
   "execution_count": 15,
   "outputs": [
    {
     "name": "stdout",
     "output_type": "stream",
     "text": [
      "The most common words are:\n",
      "to\t5295\n",
      "the\t5266\n",
      "and\t4931\n",
      "of\t4339\n",
      "i\t3191\n",
      "a\t3155\n",
      "it\t2546\n",
      "her\t2483\n",
      "was\t2400\n",
      "she\t2364\n",
      "in\t2199\n",
      "not\t2161\n",
      "you\t2053\n",
      "be\t1987\n",
      "he\t1811\n",
      "that\t1809\n",
      "had\t1626\n",
      "but\t1446\n",
      "as\t1443\n",
      "for\t1371\n"
     ]
    }
   ],
   "source": [
    "print_most_common(hist, 20)"
   ],
   "metadata": {
    "collapsed": false,
    "pycharm": {
     "name": "#%%\n"
    }
   }
  },
  {
   "cell_type": "code",
   "execution_count": 16,
   "outputs": [],
   "source": [
    "def subtract(d1, d2):\n",
    "    res = dict()\n",
    "    for key in d1:\n",
    "        if key not in d2:\n",
    "            res[key] = None\n",
    "    return res"
   ],
   "metadata": {
    "collapsed": false,
    "pycharm": {
     "name": "#%%\n"
    }
   }
  },
  {
   "cell_type": "code",
   "execution_count": 17,
   "outputs": [
    {
     "name": "stdout",
     "output_type": "stream",
     "text": [
      "Words in the book that aren't in the word list:\n",
      "gutenberg etext emma austen a etexts 1971 1994 158 18 2002 emma10.txt emma10.zip emma11.txt emma10a.txt xxxxx10x.xxx ftp etc 2 december 31 2001 10,000 x 100,000,000=trillion 10 gutenberg/ibc ibc illinois benedictine p o 2782 champaign il 61825 email michael s hart@vmd.cso.uiuc.edu internet hart@uiucvmd bitnet compuserve attmail mcimail  mrcnext.cso.uiuc.edu login your@login cd etext/etext91 etext92 etext93 etext/etext93 etext/articles dir mget index100.gut index200.gut new.gut newsletters start**the print!**for etexts**start what's tm 30 project's disclaimer 1 90 electronically merchantability disclaimers 3 hypertext ascii ebcdic 20 don't 60 ocr charles b kramer 72600.2026@compuserve.com tel 212 254 5093 end*the etexts*ver.04.29.93*end i woodhouse sister's remembrance taylor mr woodhouse's taylor's emma's unperceived weston unexceptionable morning's unreserve isabella's mrs valetudinarian london october november hartfield christmas isabella highbury woodhouses daughter's randalls james weston's hannah knightley connexions brunswick broadway mitchell's endeavour delicately endeavouring lady's one's elton chuse ii favourite churchill yorkshire connexion unsuitable brother's enscombe churchills mother's favourable portionless delightful uncle's father's deservedly hour's companionableness hindrance neighbours body's gentlemanlike perrys iii donwell unfrequently westons goddard quicksighted acquirements goddard's prosings harriet smith's unpolished betweens serle iv talkativeness exultation martin's alderneys son's shepherd's sunday nash richardson wakefield kingston 8th june 23rd day's gentleman's farmer's your's elizabeth harriet's robert uncouthness unmodulated knightley's elton's sufferable expediency fastidious v feelingly undesigned hazle vi bella mama's that's george apologised unfavourable honourable mantelpiece irksomeness encourager complaisance admirable incommoding incommoded vii i'd prepossession viii greatcoat girl's friend's gentlemen's slightingly chusing master's unreserved her's adversary's man's woman's clayton ix transcribing recollect ungallant destin'd transcribed moment's neptune eltons pre shakespeare michaelmas twelvemonth wink'd garrick's catherine grandmama 28th grandpapa grandpapas o'clock doubtingly smilingly charitable recollecting husband's undistinguishing unfastidious illiberal bates's knightleys fairfax stomacher child's experienced yesterday's cole's stilton wiltshire cellery surry wingfield ungracious fidgetiness unsullied disengaged henry's cobham weymouth f c xii aunt's unceremoniousness sauciness discordancies d'ye conversable unpersuadable discourse bella's embrocation wingfield's bateses neighbourhood graham's scotland campbell undoubting philippics rumination cromer law's langham xiii 24th tranquillised behaviour people's administered unpermitted se'nnight xiv solicitously substance january frank's braithwaites teazed man_'s xv two's stept tete unequalled unexampled inebriety xvi indiscreetly aggrandise gradations complaisant adventuring william coxe unmirthful amiableness xvii agreeably pointedly solemnity promptitude sympathise non xviii churchill's chuses manoeuvring behindhand aimable month's apartment beaufet apologise hetty ma'am fairfax's nobody's jane's friday saturday tuesday campbells ireland dixon dixon's dublin baly craig 7th holyhead monday lieut england campbell's novitiate successless recantation dixons suitableness grandmother's hawkins neighbour wonderings humouredly ford's haberdasher's buyings can't hawkins's christian augusta l rencontre green's brown's inseparably ceaseless waverings philip butcher's solitarily reanimation admirably proportionably treachery barnes companionably hyperbolical recollected men's york amor patriae hesitatingly outwardly blockhead housekeeper's butler's rationality instant's unpretending unexpensively persuadable person's unconcern dexterity unobjectionable cox's pianoforte broadwood's delightfully untouched february observable unconvinced unsentimental unsuspicious heroine's visitings outree irish improvidently unostentatious splendour unfeignedly italian anne baker's saunders mistress's wallis wallises larkins hodges deedily silversmith uninterruptedly broadwood instrument's cramer adair d commandingly scepticism endeavoured perry's ballroom's larkins's week's reprobating nephew's thing's stimulative soothings submissively composedly suckling's favourably king's selina doatingly e apartments outstepped jeffereys clara milmans e.'s caro sposo underbred unimpeded fragrance ing paradings patroness pressingly appellation controul grandmama's tongue's april bragge bragge's july honourably selina's southward constitutions clifton untowardly hymen's injustice wife's churchill'd tupman birmingham tupmans encumbrance influenced randall's richmond manchester sanguinely confidantes heartedness puppyism aladdin's here's complacently dr hughes where's richard otway caroline arthur complimented criticising goodnatured sweetbread asparagus irresistibly flatterers bickerton greensward imaginist night's tunbridge remembrances undesignedly minute's cowper pembroke exultingly disingenuousness unexamined blanche authorised humourist al sympathiser untainted unexceptionably cultivation morrow's abruptness st mark's venice discomposed swisserland penetrating crossness harmonise collation mickleham dorking mutterings shan't m confederates smallridge smallridge's bragges abdy's john's ostler's houseroom disagreeableness fancifulness windsor niece's arrowroot unaccountable otways placidity excusable secresy their's world's insignificance disengage privately misunderstood tremblings tautology unsuspected undiscerned latter's wretchedly engagement's inquietudes foolishly unpardonably hartfield's do's ungraciously groundless inferiorities w goodhumoured penetrated acquittal designedly unseasonableness 26th ult blameable particularity another's impartial disapprobation inconsideration unprovided desirableness unsuccessfully penetrate an't churchwardens william's collectedly d'almane comtesse d'ostalis genlis adelaide theodore endeavours k n unmentioned complimenter familiarise astley's james's heartfelt infant's entertainingly xix unbleached fortnight's housebreaking "
     ]
    }
   ],
   "source": [
    "words = process_file('../data/words.txt')\n",
    "diff = subtract(hist, words)\n",
    "\n",
    "print(\"Words in the book that aren't in the word list:\")\n",
    "for word in diff:\n",
    "    print(word, end=' ')"
   ],
   "metadata": {
    "collapsed": false,
    "pycharm": {
     "name": "#%%\n"
    }
   }
  },
  {
   "cell_type": "code",
   "execution_count": 18,
   "outputs": [],
   "source": [
    "def random_word(h):\n",
    "    t = []\n",
    "    for word, freq in h.items():\n",
    "        t.extend([word] * freq)\n",
    "\n",
    "    return random.choice(t)"
   ],
   "metadata": {
    "collapsed": false,
    "pycharm": {
     "name": "#%%\n"
    }
   }
  },
  {
   "cell_type": "code",
   "execution_count": 19,
   "outputs": [],
   "source": [
    "def shift(prefix, word):\n",
    "    return prefix[1:] + (word,)"
   ],
   "metadata": {
    "collapsed": false,
    "pycharm": {
     "name": "#%%\n"
    }
   }
  },
  {
   "cell_type": "code",
   "execution_count": null,
   "outputs": [],
   "source": [
    "\n"
   ],
   "metadata": {
    "collapsed": false,
    "pycharm": {
     "name": "#%%\n"
    }
   }
  }
 ],
 "metadata": {
  "kernelspec": {
   "display_name": "Python 3",
   "language": "python",
   "name": "python3"
  },
  "language_info": {
   "codemirror_mode": {
    "name": "ipython",
    "version": 2
   },
   "file_extension": ".py",
   "mimetype": "text/x-python",
   "name": "python",
   "nbconvert_exporter": "python",
   "pygments_lexer": "ipython2",
   "version": "2.7.6"
  }
 },
 "nbformat": 4,
 "nbformat_minor": 0
}
{
 "cells": [
  {
   "cell_type": "code",
   "execution_count": 1,
   "metadata": {
    "collapsed": true
   },
   "outputs": [],
   "source": [
    "import turtle\n",
    "bob = turtle.Turtle()"
   ]
  },
  {
   "cell_type": "code",
   "execution_count": 1,
   "outputs": [
    {
     "name": "stdout",
     "output_type": "stream",
     "text": [
      "<turtle.Turtle object at 0x7f54ccd24160>\n"
     ]
    }
   ],
   "source": [
    "import turtle\n",
    "bob = turtle.Turtle()\n",
    "print(bob)\n",
    "turtle.mainloop()"
   ],
   "metadata": {
    "collapsed": false,
    "pycharm": {
     "name": "#%%\n"
    }
   }
  },
  {
   "cell_type": "code",
   "execution_count": 3,
   "outputs": [
    {
     "ename": "TclError",
     "evalue": "invalid command name \".!canvas\"",
     "output_type": "error",
     "traceback": [
      "\u001B[0;31m---------------------------------------------------------------------------\u001B[0m",
      "\u001B[0;31mTclError\u001B[0m                                  Traceback (most recent call last)",
      "\u001B[0;32m<ipython-input-3-51225d130f71>\u001B[0m in \u001B[0;36m<module>\u001B[0;34m\u001B[0m\n\u001B[0;32m----> 1\u001B[0;31m \u001B[0mbob\u001B[0m\u001B[0;34m.\u001B[0m\u001B[0mfd\u001B[0m\u001B[0;34m(\u001B[0m\u001B[0;36m100\u001B[0m\u001B[0;34m)\u001B[0m\u001B[0;34m\u001B[0m\u001B[0;34m\u001B[0m\u001B[0m\n\u001B[0m\u001B[1;32m      2\u001B[0m \u001B[0;34m\u001B[0m\u001B[0m\n",
      "\u001B[0;32m~/Dokumenter/Programs/miniconda3/envs/ThinkPython-py38/lib/python3.8/turtle.py\u001B[0m in \u001B[0;36mforward\u001B[0;34m(self, distance)\u001B[0m\n\u001B[1;32m   1635\u001B[0m         \u001B[0;34m(\u001B[0m\u001B[0;34m-\u001B[0m\u001B[0;36m50.00\u001B[0m\u001B[0;34m,\u001B[0m\u001B[0;36m0.00\u001B[0m\u001B[0;34m)\u001B[0m\u001B[0;34m\u001B[0m\u001B[0;34m\u001B[0m\u001B[0m\n\u001B[1;32m   1636\u001B[0m         \"\"\"\n\u001B[0;32m-> 1637\u001B[0;31m         \u001B[0mself\u001B[0m\u001B[0;34m.\u001B[0m\u001B[0m_go\u001B[0m\u001B[0;34m(\u001B[0m\u001B[0mdistance\u001B[0m\u001B[0;34m)\u001B[0m\u001B[0;34m\u001B[0m\u001B[0;34m\u001B[0m\u001B[0m\n\u001B[0m\u001B[1;32m   1638\u001B[0m \u001B[0;34m\u001B[0m\u001B[0m\n\u001B[1;32m   1639\u001B[0m     \u001B[0;32mdef\u001B[0m \u001B[0mback\u001B[0m\u001B[0;34m(\u001B[0m\u001B[0mself\u001B[0m\u001B[0;34m,\u001B[0m \u001B[0mdistance\u001B[0m\u001B[0;34m)\u001B[0m\u001B[0;34m:\u001B[0m\u001B[0;34m\u001B[0m\u001B[0;34m\u001B[0m\u001B[0m\n",
      "\u001B[0;32m~/Dokumenter/Programs/miniconda3/envs/ThinkPython-py38/lib/python3.8/turtle.py\u001B[0m in \u001B[0;36m_go\u001B[0;34m(self, distance)\u001B[0m\n\u001B[1;32m   1603\u001B[0m         \u001B[0;34m\"\"\"move turtle forward by specified distance\"\"\"\u001B[0m\u001B[0;34m\u001B[0m\u001B[0;34m\u001B[0m\u001B[0m\n\u001B[1;32m   1604\u001B[0m         \u001B[0mende\u001B[0m \u001B[0;34m=\u001B[0m \u001B[0mself\u001B[0m\u001B[0;34m.\u001B[0m\u001B[0m_position\u001B[0m \u001B[0;34m+\u001B[0m \u001B[0mself\u001B[0m\u001B[0;34m.\u001B[0m\u001B[0m_orient\u001B[0m \u001B[0;34m*\u001B[0m \u001B[0mdistance\u001B[0m\u001B[0;34m\u001B[0m\u001B[0;34m\u001B[0m\u001B[0m\n\u001B[0;32m-> 1605\u001B[0;31m         \u001B[0mself\u001B[0m\u001B[0;34m.\u001B[0m\u001B[0m_goto\u001B[0m\u001B[0;34m(\u001B[0m\u001B[0mende\u001B[0m\u001B[0;34m)\u001B[0m\u001B[0;34m\u001B[0m\u001B[0;34m\u001B[0m\u001B[0m\n\u001B[0m\u001B[1;32m   1606\u001B[0m \u001B[0;34m\u001B[0m\u001B[0m\n\u001B[1;32m   1607\u001B[0m     \u001B[0;32mdef\u001B[0m \u001B[0m_rotate\u001B[0m\u001B[0;34m(\u001B[0m\u001B[0mself\u001B[0m\u001B[0;34m,\u001B[0m \u001B[0mangle\u001B[0m\u001B[0;34m)\u001B[0m\u001B[0;34m:\u001B[0m\u001B[0;34m\u001B[0m\u001B[0;34m\u001B[0m\u001B[0m\n",
      "\u001B[0;32m~/Dokumenter/Programs/miniconda3/envs/ThinkPython-py38/lib/python3.8/turtle.py\u001B[0m in \u001B[0;36m_goto\u001B[0;34m(self, end)\u001B[0m\n\u001B[1;32m   3156\u001B[0m                       (self.currentLineItem,\n\u001B[1;32m   3157\u001B[0m                       \u001B[0mself\u001B[0m\u001B[0;34m.\u001B[0m\u001B[0mcurrentLine\u001B[0m\u001B[0;34m[\u001B[0m\u001B[0;34m:\u001B[0m\u001B[0;34m]\u001B[0m\u001B[0;34m,\u001B[0m\u001B[0;34m\u001B[0m\u001B[0;34m\u001B[0m\u001B[0m\n\u001B[0;32m-> 3158\u001B[0;31m                       \u001B[0mscreen\u001B[0m\u001B[0;34m.\u001B[0m\u001B[0m_pointlist\u001B[0m\u001B[0;34m(\u001B[0m\u001B[0mself\u001B[0m\u001B[0;34m.\u001B[0m\u001B[0mcurrentLineItem\u001B[0m\u001B[0;34m)\u001B[0m\u001B[0;34m,\u001B[0m\u001B[0;34m\u001B[0m\u001B[0;34m\u001B[0m\u001B[0m\n\u001B[0m\u001B[1;32m   3159\u001B[0m                       self.items[:])\n\u001B[1;32m   3160\u001B[0m                       )\n",
      "\u001B[0;32m~/Dokumenter/Programs/miniconda3/envs/ThinkPython-py38/lib/python3.8/turtle.py\u001B[0m in \u001B[0;36m_pointlist\u001B[0;34m(self, item)\u001B[0m\n\u001B[1;32m    753\u001B[0m         (9.9999999999999982, 0.0)]\n\u001B[1;32m    754\u001B[0m         >>> \"\"\"\n\u001B[0;32m--> 755\u001B[0;31m         \u001B[0mcl\u001B[0m \u001B[0;34m=\u001B[0m \u001B[0mself\u001B[0m\u001B[0;34m.\u001B[0m\u001B[0mcv\u001B[0m\u001B[0;34m.\u001B[0m\u001B[0mcoords\u001B[0m\u001B[0;34m(\u001B[0m\u001B[0mitem\u001B[0m\u001B[0;34m)\u001B[0m\u001B[0;34m\u001B[0m\u001B[0;34m\u001B[0m\u001B[0m\n\u001B[0m\u001B[1;32m    756\u001B[0m         \u001B[0mpl\u001B[0m \u001B[0;34m=\u001B[0m \u001B[0;34m[\u001B[0m\u001B[0;34m(\u001B[0m\u001B[0mcl\u001B[0m\u001B[0;34m[\u001B[0m\u001B[0mi\u001B[0m\u001B[0;34m]\u001B[0m\u001B[0;34m,\u001B[0m \u001B[0;34m-\u001B[0m\u001B[0mcl\u001B[0m\u001B[0;34m[\u001B[0m\u001B[0mi\u001B[0m\u001B[0;34m+\u001B[0m\u001B[0;36m1\u001B[0m\u001B[0;34m]\u001B[0m\u001B[0;34m)\u001B[0m \u001B[0;32mfor\u001B[0m \u001B[0mi\u001B[0m \u001B[0;32min\u001B[0m \u001B[0mrange\u001B[0m\u001B[0;34m(\u001B[0m\u001B[0;36m0\u001B[0m\u001B[0;34m,\u001B[0m \u001B[0mlen\u001B[0m\u001B[0;34m(\u001B[0m\u001B[0mcl\u001B[0m\u001B[0;34m)\u001B[0m\u001B[0;34m,\u001B[0m \u001B[0;36m2\u001B[0m\u001B[0;34m)\u001B[0m\u001B[0;34m]\u001B[0m\u001B[0;34m\u001B[0m\u001B[0;34m\u001B[0m\u001B[0m\n\u001B[1;32m    757\u001B[0m         \u001B[0;32mreturn\u001B[0m  \u001B[0mpl\u001B[0m\u001B[0;34m\u001B[0m\u001B[0;34m\u001B[0m\u001B[0m\n",
      "\u001B[0;32m<string>\u001B[0m in \u001B[0;36mcoords\u001B[0;34m(self, *args, **kw)\u001B[0m\n",
      "\u001B[0;32m~/Dokumenter/Programs/miniconda3/envs/ThinkPython-py38/lib/python3.8/tkinter/__init__.py\u001B[0m in \u001B[0;36mcoords\u001B[0;34m(self, *args)\u001B[0m\n\u001B[1;32m   2759\u001B[0m         return [self.tk.getdouble(x) for x in\n\u001B[1;32m   2760\u001B[0m                            self.tk.splitlist(\n\u001B[0;32m-> 2761\u001B[0;31m                    self.tk.call((self._w, 'coords') + args))]\n\u001B[0m\u001B[1;32m   2762\u001B[0m \u001B[0;34m\u001B[0m\u001B[0m\n\u001B[1;32m   2763\u001B[0m     \u001B[0;32mdef\u001B[0m \u001B[0m_create\u001B[0m\u001B[0;34m(\u001B[0m\u001B[0mself\u001B[0m\u001B[0;34m,\u001B[0m \u001B[0mitemType\u001B[0m\u001B[0;34m,\u001B[0m \u001B[0margs\u001B[0m\u001B[0;34m,\u001B[0m \u001B[0mkw\u001B[0m\u001B[0;34m)\u001B[0m\u001B[0;34m:\u001B[0m \u001B[0;31m# Args: (val, val, ..., cnf={})\u001B[0m\u001B[0;34m\u001B[0m\u001B[0;34m\u001B[0m\u001B[0m\n",
      "\u001B[0;31mTclError\u001B[0m: invalid command name \".!canvas\""
     ]
    }
   ],
   "source": [
    "bob.fd(100)"
   ],
   "metadata": {
    "collapsed": false,
    "pycharm": {
     "name": "#%%\n"
    }
   }
  },
  {
   "cell_type": "code",
   "execution_count": 4,
   "outputs": [
    {
     "ename": "TclError",
     "evalue": "invalid command name \".!canvas\"",
     "output_type": "error",
     "traceback": [
      "\u001B[0;31m---------------------------------------------------------------------------\u001B[0m",
      "\u001B[0;31mTclError\u001B[0m                                  Traceback (most recent call last)",
      "\u001B[0;32m<ipython-input-4-f059fe8baf2e>\u001B[0m in \u001B[0;36m<module>\u001B[0;34m\u001B[0m\n\u001B[0;32m----> 1\u001B[0;31m \u001B[0mbob\u001B[0m\u001B[0;34m.\u001B[0m\u001B[0mfd\u001B[0m\u001B[0;34m(\u001B[0m\u001B[0;36m100\u001B[0m\u001B[0;34m)\u001B[0m\u001B[0;34m\u001B[0m\u001B[0;34m\u001B[0m\u001B[0m\n\u001B[0m\u001B[1;32m      2\u001B[0m \u001B[0mbob\u001B[0m\u001B[0;34m.\u001B[0m\u001B[0mlt\u001B[0m\u001B[0;34m(\u001B[0m\u001B[0;36m90\u001B[0m\u001B[0;34m)\u001B[0m\u001B[0;34m\u001B[0m\u001B[0;34m\u001B[0m\u001B[0m\n\u001B[1;32m      3\u001B[0m \u001B[0mbob\u001B[0m\u001B[0;34m.\u001B[0m\u001B[0mfd\u001B[0m\u001B[0;34m(\u001B[0m\u001B[0;36m100\u001B[0m\u001B[0;34m)\u001B[0m\u001B[0;34m\u001B[0m\u001B[0;34m\u001B[0m\u001B[0m\n\u001B[1;32m      4\u001B[0m \u001B[0;34m\u001B[0m\u001B[0m\n",
      "\u001B[0;32m~/Dokumenter/Programs/miniconda3/envs/ThinkPython-py38/lib/python3.8/turtle.py\u001B[0m in \u001B[0;36mforward\u001B[0;34m(self, distance)\u001B[0m\n\u001B[1;32m   1635\u001B[0m         \u001B[0;34m(\u001B[0m\u001B[0;34m-\u001B[0m\u001B[0;36m50.00\u001B[0m\u001B[0;34m,\u001B[0m\u001B[0;36m0.00\u001B[0m\u001B[0;34m)\u001B[0m\u001B[0;34m\u001B[0m\u001B[0;34m\u001B[0m\u001B[0m\n\u001B[1;32m   1636\u001B[0m         \"\"\"\n\u001B[0;32m-> 1637\u001B[0;31m         \u001B[0mself\u001B[0m\u001B[0;34m.\u001B[0m\u001B[0m_go\u001B[0m\u001B[0;34m(\u001B[0m\u001B[0mdistance\u001B[0m\u001B[0;34m)\u001B[0m\u001B[0;34m\u001B[0m\u001B[0;34m\u001B[0m\u001B[0m\n\u001B[0m\u001B[1;32m   1638\u001B[0m \u001B[0;34m\u001B[0m\u001B[0m\n\u001B[1;32m   1639\u001B[0m     \u001B[0;32mdef\u001B[0m \u001B[0mback\u001B[0m\u001B[0;34m(\u001B[0m\u001B[0mself\u001B[0m\u001B[0;34m,\u001B[0m \u001B[0mdistance\u001B[0m\u001B[0;34m)\u001B[0m\u001B[0;34m:\u001B[0m\u001B[0;34m\u001B[0m\u001B[0;34m\u001B[0m\u001B[0m\n",
      "\u001B[0;32m~/Dokumenter/Programs/miniconda3/envs/ThinkPython-py38/lib/python3.8/turtle.py\u001B[0m in \u001B[0;36m_go\u001B[0;34m(self, distance)\u001B[0m\n\u001B[1;32m   1603\u001B[0m         \u001B[0;34m\"\"\"move turtle forward by specified distance\"\"\"\u001B[0m\u001B[0;34m\u001B[0m\u001B[0;34m\u001B[0m\u001B[0m\n\u001B[1;32m   1604\u001B[0m         \u001B[0mende\u001B[0m \u001B[0;34m=\u001B[0m \u001B[0mself\u001B[0m\u001B[0;34m.\u001B[0m\u001B[0m_position\u001B[0m \u001B[0;34m+\u001B[0m \u001B[0mself\u001B[0m\u001B[0;34m.\u001B[0m\u001B[0m_orient\u001B[0m \u001B[0;34m*\u001B[0m \u001B[0mdistance\u001B[0m\u001B[0;34m\u001B[0m\u001B[0;34m\u001B[0m\u001B[0m\n\u001B[0;32m-> 1605\u001B[0;31m         \u001B[0mself\u001B[0m\u001B[0;34m.\u001B[0m\u001B[0m_goto\u001B[0m\u001B[0;34m(\u001B[0m\u001B[0mende\u001B[0m\u001B[0;34m)\u001B[0m\u001B[0;34m\u001B[0m\u001B[0;34m\u001B[0m\u001B[0m\n\u001B[0m\u001B[1;32m   1606\u001B[0m \u001B[0;34m\u001B[0m\u001B[0m\n\u001B[1;32m   1607\u001B[0m     \u001B[0;32mdef\u001B[0m \u001B[0m_rotate\u001B[0m\u001B[0;34m(\u001B[0m\u001B[0mself\u001B[0m\u001B[0;34m,\u001B[0m \u001B[0mangle\u001B[0m\u001B[0;34m)\u001B[0m\u001B[0;34m:\u001B[0m\u001B[0;34m\u001B[0m\u001B[0;34m\u001B[0m\u001B[0m\n",
      "\u001B[0;32m~/Dokumenter/Programs/miniconda3/envs/ThinkPython-py38/lib/python3.8/turtle.py\u001B[0m in \u001B[0;36m_goto\u001B[0;34m(self, end)\u001B[0m\n\u001B[1;32m   3156\u001B[0m                       (self.currentLineItem,\n\u001B[1;32m   3157\u001B[0m                       \u001B[0mself\u001B[0m\u001B[0;34m.\u001B[0m\u001B[0mcurrentLine\u001B[0m\u001B[0;34m[\u001B[0m\u001B[0;34m:\u001B[0m\u001B[0;34m]\u001B[0m\u001B[0;34m,\u001B[0m\u001B[0;34m\u001B[0m\u001B[0;34m\u001B[0m\u001B[0m\n\u001B[0;32m-> 3158\u001B[0;31m                       \u001B[0mscreen\u001B[0m\u001B[0;34m.\u001B[0m\u001B[0m_pointlist\u001B[0m\u001B[0;34m(\u001B[0m\u001B[0mself\u001B[0m\u001B[0;34m.\u001B[0m\u001B[0mcurrentLineItem\u001B[0m\u001B[0;34m)\u001B[0m\u001B[0;34m,\u001B[0m\u001B[0;34m\u001B[0m\u001B[0;34m\u001B[0m\u001B[0m\n\u001B[0m\u001B[1;32m   3159\u001B[0m                       self.items[:])\n\u001B[1;32m   3160\u001B[0m                       )\n",
      "\u001B[0;32m~/Dokumenter/Programs/miniconda3/envs/ThinkPython-py38/lib/python3.8/turtle.py\u001B[0m in \u001B[0;36m_pointlist\u001B[0;34m(self, item)\u001B[0m\n\u001B[1;32m    753\u001B[0m         (9.9999999999999982, 0.0)]\n\u001B[1;32m    754\u001B[0m         >>> \"\"\"\n\u001B[0;32m--> 755\u001B[0;31m         \u001B[0mcl\u001B[0m \u001B[0;34m=\u001B[0m \u001B[0mself\u001B[0m\u001B[0;34m.\u001B[0m\u001B[0mcv\u001B[0m\u001B[0;34m.\u001B[0m\u001B[0mcoords\u001B[0m\u001B[0;34m(\u001B[0m\u001B[0mitem\u001B[0m\u001B[0;34m)\u001B[0m\u001B[0;34m\u001B[0m\u001B[0;34m\u001B[0m\u001B[0m\n\u001B[0m\u001B[1;32m    756\u001B[0m         \u001B[0mpl\u001B[0m \u001B[0;34m=\u001B[0m \u001B[0;34m[\u001B[0m\u001B[0;34m(\u001B[0m\u001B[0mcl\u001B[0m\u001B[0;34m[\u001B[0m\u001B[0mi\u001B[0m\u001B[0;34m]\u001B[0m\u001B[0;34m,\u001B[0m \u001B[0;34m-\u001B[0m\u001B[0mcl\u001B[0m\u001B[0;34m[\u001B[0m\u001B[0mi\u001B[0m\u001B[0;34m+\u001B[0m\u001B[0;36m1\u001B[0m\u001B[0;34m]\u001B[0m\u001B[0;34m)\u001B[0m \u001B[0;32mfor\u001B[0m \u001B[0mi\u001B[0m \u001B[0;32min\u001B[0m \u001B[0mrange\u001B[0m\u001B[0;34m(\u001B[0m\u001B[0;36m0\u001B[0m\u001B[0;34m,\u001B[0m \u001B[0mlen\u001B[0m\u001B[0;34m(\u001B[0m\u001B[0mcl\u001B[0m\u001B[0;34m)\u001B[0m\u001B[0;34m,\u001B[0m \u001B[0;36m2\u001B[0m\u001B[0;34m)\u001B[0m\u001B[0;34m]\u001B[0m\u001B[0;34m\u001B[0m\u001B[0;34m\u001B[0m\u001B[0m\n\u001B[1;32m    757\u001B[0m         \u001B[0;32mreturn\u001B[0m  \u001B[0mpl\u001B[0m\u001B[0;34m\u001B[0m\u001B[0;34m\u001B[0m\u001B[0m\n",
      "\u001B[0;32m<string>\u001B[0m in \u001B[0;36mcoords\u001B[0;34m(self, *args, **kw)\u001B[0m\n",
      "\u001B[0;32m~/Dokumenter/Programs/miniconda3/envs/ThinkPython-py38/lib/python3.8/tkinter/__init__.py\u001B[0m in \u001B[0;36mcoords\u001B[0;34m(self, *args)\u001B[0m\n\u001B[1;32m   2759\u001B[0m         return [self.tk.getdouble(x) for x in\n\u001B[1;32m   2760\u001B[0m                            self.tk.splitlist(\n\u001B[0;32m-> 2761\u001B[0;31m                    self.tk.call((self._w, 'coords') + args))]\n\u001B[0m\u001B[1;32m   2762\u001B[0m \u001B[0;34m\u001B[0m\u001B[0m\n\u001B[1;32m   2763\u001B[0m     \u001B[0;32mdef\u001B[0m \u001B[0m_create\u001B[0m\u001B[0;34m(\u001B[0m\u001B[0mself\u001B[0m\u001B[0;34m,\u001B[0m \u001B[0mitemType\u001B[0m\u001B[0;34m,\u001B[0m \u001B[0margs\u001B[0m\u001B[0;34m,\u001B[0m \u001B[0mkw\u001B[0m\u001B[0;34m)\u001B[0m\u001B[0;34m:\u001B[0m \u001B[0;31m# Args: (val, val, ..., cnf={})\u001B[0m\u001B[0;34m\u001B[0m\u001B[0;34m\u001B[0m\u001B[0m\n",
      "\u001B[0;31mTclError\u001B[0m: invalid command name \".!canvas\""
     ]
    }
   ],
   "source": [
    "bob.fd(100)\n",
    "bob.lt(90)\n",
    "bob.fd(100)"
   ],
   "metadata": {
    "collapsed": false,
    "pycharm": {
     "name": "#%%\n"
    }
   }
  },
  {
   "cell_type": "code",
   "execution_count": 5,
   "outputs": [
    {
     "ename": "TclError",
     "evalue": "invalid command name \".!canvas\"",
     "output_type": "error",
     "traceback": [
      "\u001B[0;31m---------------------------------------------------------------------------\u001B[0m",
      "\u001B[0;31mTclError\u001B[0m                                  Traceback (most recent call last)",
      "\u001B[0;32m<ipython-input-5-bdb701eed00e>\u001B[0m in \u001B[0;36m<module>\u001B[0;34m\u001B[0m\n\u001B[0;32m----> 1\u001B[0;31m \u001B[0mbob\u001B[0m\u001B[0;34m.\u001B[0m\u001B[0mfd\u001B[0m\u001B[0;34m(\u001B[0m\u001B[0;36m100\u001B[0m\u001B[0;34m)\u001B[0m\u001B[0;34m\u001B[0m\u001B[0;34m\u001B[0m\u001B[0m\n\u001B[0m\u001B[1;32m      2\u001B[0m \u001B[0mbob\u001B[0m\u001B[0;34m.\u001B[0m\u001B[0mlt\u001B[0m\u001B[0;34m(\u001B[0m\u001B[0;36m90\u001B[0m\u001B[0;34m)\u001B[0m\u001B[0;34m\u001B[0m\u001B[0;34m\u001B[0m\u001B[0m\n\u001B[1;32m      3\u001B[0m \u001B[0;34m\u001B[0m\u001B[0m\n\u001B[1;32m      4\u001B[0m \u001B[0mbob\u001B[0m\u001B[0;34m.\u001B[0m\u001B[0mfd\u001B[0m\u001B[0;34m(\u001B[0m\u001B[0;36m100\u001B[0m\u001B[0;34m)\u001B[0m\u001B[0;34m\u001B[0m\u001B[0;34m\u001B[0m\u001B[0m\n\u001B[1;32m      5\u001B[0m \u001B[0mbob\u001B[0m\u001B[0;34m.\u001B[0m\u001B[0mlt\u001B[0m\u001B[0;34m(\u001B[0m\u001B[0;36m90\u001B[0m\u001B[0;34m)\u001B[0m\u001B[0;34m\u001B[0m\u001B[0;34m\u001B[0m\u001B[0m\n",
      "\u001B[0;32m~/Dokumenter/Programs/miniconda3/envs/ThinkPython-py38/lib/python3.8/turtle.py\u001B[0m in \u001B[0;36mforward\u001B[0;34m(self, distance)\u001B[0m\n\u001B[1;32m   1635\u001B[0m         \u001B[0;34m(\u001B[0m\u001B[0;34m-\u001B[0m\u001B[0;36m50.00\u001B[0m\u001B[0;34m,\u001B[0m\u001B[0;36m0.00\u001B[0m\u001B[0;34m)\u001B[0m\u001B[0;34m\u001B[0m\u001B[0;34m\u001B[0m\u001B[0m\n\u001B[1;32m   1636\u001B[0m         \"\"\"\n\u001B[0;32m-> 1637\u001B[0;31m         \u001B[0mself\u001B[0m\u001B[0;34m.\u001B[0m\u001B[0m_go\u001B[0m\u001B[0;34m(\u001B[0m\u001B[0mdistance\u001B[0m\u001B[0;34m)\u001B[0m\u001B[0;34m\u001B[0m\u001B[0;34m\u001B[0m\u001B[0m\n\u001B[0m\u001B[1;32m   1638\u001B[0m \u001B[0;34m\u001B[0m\u001B[0m\n\u001B[1;32m   1639\u001B[0m     \u001B[0;32mdef\u001B[0m \u001B[0mback\u001B[0m\u001B[0;34m(\u001B[0m\u001B[0mself\u001B[0m\u001B[0;34m,\u001B[0m \u001B[0mdistance\u001B[0m\u001B[0;34m)\u001B[0m\u001B[0;34m:\u001B[0m\u001B[0;34m\u001B[0m\u001B[0;34m\u001B[0m\u001B[0m\n",
      "\u001B[0;32m~/Dokumenter/Programs/miniconda3/envs/ThinkPython-py38/lib/python3.8/turtle.py\u001B[0m in \u001B[0;36m_go\u001B[0;34m(self, distance)\u001B[0m\n\u001B[1;32m   1603\u001B[0m         \u001B[0;34m\"\"\"move turtle forward by specified distance\"\"\"\u001B[0m\u001B[0;34m\u001B[0m\u001B[0;34m\u001B[0m\u001B[0m\n\u001B[1;32m   1604\u001B[0m         \u001B[0mende\u001B[0m \u001B[0;34m=\u001B[0m \u001B[0mself\u001B[0m\u001B[0;34m.\u001B[0m\u001B[0m_position\u001B[0m \u001B[0;34m+\u001B[0m \u001B[0mself\u001B[0m\u001B[0;34m.\u001B[0m\u001B[0m_orient\u001B[0m \u001B[0;34m*\u001B[0m \u001B[0mdistance\u001B[0m\u001B[0;34m\u001B[0m\u001B[0;34m\u001B[0m\u001B[0m\n\u001B[0;32m-> 1605\u001B[0;31m         \u001B[0mself\u001B[0m\u001B[0;34m.\u001B[0m\u001B[0m_goto\u001B[0m\u001B[0;34m(\u001B[0m\u001B[0mende\u001B[0m\u001B[0;34m)\u001B[0m\u001B[0;34m\u001B[0m\u001B[0;34m\u001B[0m\u001B[0m\n\u001B[0m\u001B[1;32m   1606\u001B[0m \u001B[0;34m\u001B[0m\u001B[0m\n\u001B[1;32m   1607\u001B[0m     \u001B[0;32mdef\u001B[0m \u001B[0m_rotate\u001B[0m\u001B[0;34m(\u001B[0m\u001B[0mself\u001B[0m\u001B[0;34m,\u001B[0m \u001B[0mangle\u001B[0m\u001B[0;34m)\u001B[0m\u001B[0;34m:\u001B[0m\u001B[0;34m\u001B[0m\u001B[0;34m\u001B[0m\u001B[0m\n",
      "\u001B[0;32m~/Dokumenter/Programs/miniconda3/envs/ThinkPython-py38/lib/python3.8/turtle.py\u001B[0m in \u001B[0;36m_goto\u001B[0;34m(self, end)\u001B[0m\n\u001B[1;32m   3156\u001B[0m                       (self.currentLineItem,\n\u001B[1;32m   3157\u001B[0m                       \u001B[0mself\u001B[0m\u001B[0;34m.\u001B[0m\u001B[0mcurrentLine\u001B[0m\u001B[0;34m[\u001B[0m\u001B[0;34m:\u001B[0m\u001B[0;34m]\u001B[0m\u001B[0;34m,\u001B[0m\u001B[0;34m\u001B[0m\u001B[0;34m\u001B[0m\u001B[0m\n\u001B[0;32m-> 3158\u001B[0;31m                       \u001B[0mscreen\u001B[0m\u001B[0;34m.\u001B[0m\u001B[0m_pointlist\u001B[0m\u001B[0;34m(\u001B[0m\u001B[0mself\u001B[0m\u001B[0;34m.\u001B[0m\u001B[0mcurrentLineItem\u001B[0m\u001B[0;34m)\u001B[0m\u001B[0;34m,\u001B[0m\u001B[0;34m\u001B[0m\u001B[0;34m\u001B[0m\u001B[0m\n\u001B[0m\u001B[1;32m   3159\u001B[0m                       self.items[:])\n\u001B[1;32m   3160\u001B[0m                       )\n",
      "\u001B[0;32m~/Dokumenter/Programs/miniconda3/envs/ThinkPython-py38/lib/python3.8/turtle.py\u001B[0m in \u001B[0;36m_pointlist\u001B[0;34m(self, item)\u001B[0m\n\u001B[1;32m    753\u001B[0m         (9.9999999999999982, 0.0)]\n\u001B[1;32m    754\u001B[0m         >>> \"\"\"\n\u001B[0;32m--> 755\u001B[0;31m         \u001B[0mcl\u001B[0m \u001B[0;34m=\u001B[0m \u001B[0mself\u001B[0m\u001B[0;34m.\u001B[0m\u001B[0mcv\u001B[0m\u001B[0;34m.\u001B[0m\u001B[0mcoords\u001B[0m\u001B[0;34m(\u001B[0m\u001B[0mitem\u001B[0m\u001B[0;34m)\u001B[0m\u001B[0;34m\u001B[0m\u001B[0;34m\u001B[0m\u001B[0m\n\u001B[0m\u001B[1;32m    756\u001B[0m         \u001B[0mpl\u001B[0m \u001B[0;34m=\u001B[0m \u001B[0;34m[\u001B[0m\u001B[0;34m(\u001B[0m\u001B[0mcl\u001B[0m\u001B[0;34m[\u001B[0m\u001B[0mi\u001B[0m\u001B[0;34m]\u001B[0m\u001B[0;34m,\u001B[0m \u001B[0;34m-\u001B[0m\u001B[0mcl\u001B[0m\u001B[0;34m[\u001B[0m\u001B[0mi\u001B[0m\u001B[0;34m+\u001B[0m\u001B[0;36m1\u001B[0m\u001B[0;34m]\u001B[0m\u001B[0;34m)\u001B[0m \u001B[0;32mfor\u001B[0m \u001B[0mi\u001B[0m \u001B[0;32min\u001B[0m \u001B[0mrange\u001B[0m\u001B[0;34m(\u001B[0m\u001B[0;36m0\u001B[0m\u001B[0;34m,\u001B[0m \u001B[0mlen\u001B[0m\u001B[0;34m(\u001B[0m\u001B[0mcl\u001B[0m\u001B[0;34m)\u001B[0m\u001B[0;34m,\u001B[0m \u001B[0;36m2\u001B[0m\u001B[0;34m)\u001B[0m\u001B[0;34m]\u001B[0m\u001B[0;34m\u001B[0m\u001B[0;34m\u001B[0m\u001B[0m\n\u001B[1;32m    757\u001B[0m         \u001B[0;32mreturn\u001B[0m  \u001B[0mpl\u001B[0m\u001B[0;34m\u001B[0m\u001B[0;34m\u001B[0m\u001B[0m\n",
      "\u001B[0;32m<string>\u001B[0m in \u001B[0;36mcoords\u001B[0;34m(self, *args, **kw)\u001B[0m\n",
      "\u001B[0;32m~/Dokumenter/Programs/miniconda3/envs/ThinkPython-py38/lib/python3.8/tkinter/__init__.py\u001B[0m in \u001B[0;36mcoords\u001B[0;34m(self, *args)\u001B[0m\n\u001B[1;32m   2759\u001B[0m         return [self.tk.getdouble(x) for x in\n\u001B[1;32m   2760\u001B[0m                            self.tk.splitlist(\n\u001B[0;32m-> 2761\u001B[0;31m                    self.tk.call((self._w, 'coords') + args))]\n\u001B[0m\u001B[1;32m   2762\u001B[0m \u001B[0;34m\u001B[0m\u001B[0m\n\u001B[1;32m   2763\u001B[0m     \u001B[0;32mdef\u001B[0m \u001B[0m_create\u001B[0m\u001B[0;34m(\u001B[0m\u001B[0mself\u001B[0m\u001B[0;34m,\u001B[0m \u001B[0mitemType\u001B[0m\u001B[0;34m,\u001B[0m \u001B[0margs\u001B[0m\u001B[0;34m,\u001B[0m \u001B[0mkw\u001B[0m\u001B[0;34m)\u001B[0m\u001B[0;34m:\u001B[0m \u001B[0;31m# Args: (val, val, ..., cnf={})\u001B[0m\u001B[0;34m\u001B[0m\u001B[0;34m\u001B[0m\u001B[0m\n",
      "\u001B[0;31mTclError\u001B[0m: invalid command name \".!canvas\""
     ]
    }
   ],
   "source": [
    "bob.fd(100)\n",
    "bob.lt(90)\n",
    "\n",
    "bob.fd(100)\n",
    "bob.lt(90)\n",
    "\n",
    "bob.fd(100)\n",
    "bob.lt(90)\n",
    "\n",
    "bob.fd(100)"
   ],
   "metadata": {
    "collapsed": false,
    "pycharm": {
     "name": "#%%\n"
    }
   }
  },
  {
   "cell_type": "code",
   "execution_count": 6,
   "outputs": [
    {
     "name": "stdout",
     "output_type": "stream",
     "text": [
      "Hello!\n",
      "Hello!\n",
      "Hello!\n",
      "Hello!\n"
     ]
    }
   ],
   "source": [
    "for i in range(4):\n",
    "    print('Hello!')"
   ],
   "metadata": {
    "collapsed": false,
    "pycharm": {
     "name": "#%%\n"
    }
   }
  },
  {
   "cell_type": "code",
   "execution_count": 7,
   "outputs": [
    {
     "ename": "TclError",
     "evalue": "invalid command name \".!canvas\"",
     "output_type": "error",
     "traceback": [
      "\u001B[0;31m---------------------------------------------------------------------------\u001B[0m",
      "\u001B[0;31mTclError\u001B[0m                                  Traceback (most recent call last)",
      "\u001B[0;32m<ipython-input-7-f5a005b69559>\u001B[0m in \u001B[0;36m<module>\u001B[0;34m\u001B[0m\n\u001B[1;32m      1\u001B[0m \u001B[0;32mfor\u001B[0m \u001B[0mi\u001B[0m \u001B[0;32min\u001B[0m \u001B[0mrange\u001B[0m\u001B[0;34m(\u001B[0m\u001B[0;36m4\u001B[0m\u001B[0;34m)\u001B[0m\u001B[0;34m:\u001B[0m\u001B[0;34m\u001B[0m\u001B[0;34m\u001B[0m\u001B[0m\n\u001B[0;32m----> 2\u001B[0;31m     \u001B[0mbob\u001B[0m\u001B[0;34m.\u001B[0m\u001B[0mfd\u001B[0m\u001B[0;34m(\u001B[0m\u001B[0;36m100\u001B[0m\u001B[0;34m)\u001B[0m\u001B[0;34m\u001B[0m\u001B[0;34m\u001B[0m\u001B[0m\n\u001B[0m\u001B[1;32m      3\u001B[0m     \u001B[0mbob\u001B[0m\u001B[0;34m.\u001B[0m\u001B[0mlt\u001B[0m\u001B[0;34m(\u001B[0m\u001B[0;36m90\u001B[0m\u001B[0;34m)\u001B[0m\u001B[0;34m\u001B[0m\u001B[0;34m\u001B[0m\u001B[0m\n\u001B[1;32m      4\u001B[0m \u001B[0;34m\u001B[0m\u001B[0m\n",
      "\u001B[0;32m~/Dokumenter/Programs/miniconda3/envs/ThinkPython-py38/lib/python3.8/turtle.py\u001B[0m in \u001B[0;36mforward\u001B[0;34m(self, distance)\u001B[0m\n\u001B[1;32m   1635\u001B[0m         \u001B[0;34m(\u001B[0m\u001B[0;34m-\u001B[0m\u001B[0;36m50.00\u001B[0m\u001B[0;34m,\u001B[0m\u001B[0;36m0.00\u001B[0m\u001B[0;34m)\u001B[0m\u001B[0;34m\u001B[0m\u001B[0;34m\u001B[0m\u001B[0m\n\u001B[1;32m   1636\u001B[0m         \"\"\"\n\u001B[0;32m-> 1637\u001B[0;31m         \u001B[0mself\u001B[0m\u001B[0;34m.\u001B[0m\u001B[0m_go\u001B[0m\u001B[0;34m(\u001B[0m\u001B[0mdistance\u001B[0m\u001B[0;34m)\u001B[0m\u001B[0;34m\u001B[0m\u001B[0;34m\u001B[0m\u001B[0m\n\u001B[0m\u001B[1;32m   1638\u001B[0m \u001B[0;34m\u001B[0m\u001B[0m\n\u001B[1;32m   1639\u001B[0m     \u001B[0;32mdef\u001B[0m \u001B[0mback\u001B[0m\u001B[0;34m(\u001B[0m\u001B[0mself\u001B[0m\u001B[0;34m,\u001B[0m \u001B[0mdistance\u001B[0m\u001B[0;34m)\u001B[0m\u001B[0;34m:\u001B[0m\u001B[0;34m\u001B[0m\u001B[0;34m\u001B[0m\u001B[0m\n",
      "\u001B[0;32m~/Dokumenter/Programs/miniconda3/envs/ThinkPython-py38/lib/python3.8/turtle.py\u001B[0m in \u001B[0;36m_go\u001B[0;34m(self, distance)\u001B[0m\n\u001B[1;32m   1603\u001B[0m         \u001B[0;34m\"\"\"move turtle forward by specified distance\"\"\"\u001B[0m\u001B[0;34m\u001B[0m\u001B[0;34m\u001B[0m\u001B[0m\n\u001B[1;32m   1604\u001B[0m         \u001B[0mende\u001B[0m \u001B[0;34m=\u001B[0m \u001B[0mself\u001B[0m\u001B[0;34m.\u001B[0m\u001B[0m_position\u001B[0m \u001B[0;34m+\u001B[0m \u001B[0mself\u001B[0m\u001B[0;34m.\u001B[0m\u001B[0m_orient\u001B[0m \u001B[0;34m*\u001B[0m \u001B[0mdistance\u001B[0m\u001B[0;34m\u001B[0m\u001B[0;34m\u001B[0m\u001B[0m\n\u001B[0;32m-> 1605\u001B[0;31m         \u001B[0mself\u001B[0m\u001B[0;34m.\u001B[0m\u001B[0m_goto\u001B[0m\u001B[0;34m(\u001B[0m\u001B[0mende\u001B[0m\u001B[0;34m)\u001B[0m\u001B[0;34m\u001B[0m\u001B[0;34m\u001B[0m\u001B[0m\n\u001B[0m\u001B[1;32m   1606\u001B[0m \u001B[0;34m\u001B[0m\u001B[0m\n\u001B[1;32m   1607\u001B[0m     \u001B[0;32mdef\u001B[0m \u001B[0m_rotate\u001B[0m\u001B[0;34m(\u001B[0m\u001B[0mself\u001B[0m\u001B[0;34m,\u001B[0m \u001B[0mangle\u001B[0m\u001B[0;34m)\u001B[0m\u001B[0;34m:\u001B[0m\u001B[0;34m\u001B[0m\u001B[0;34m\u001B[0m\u001B[0m\n",
      "\u001B[0;32m~/Dokumenter/Programs/miniconda3/envs/ThinkPython-py38/lib/python3.8/turtle.py\u001B[0m in \u001B[0;36m_goto\u001B[0;34m(self, end)\u001B[0m\n\u001B[1;32m   3156\u001B[0m                       (self.currentLineItem,\n\u001B[1;32m   3157\u001B[0m                       \u001B[0mself\u001B[0m\u001B[0;34m.\u001B[0m\u001B[0mcurrentLine\u001B[0m\u001B[0;34m[\u001B[0m\u001B[0;34m:\u001B[0m\u001B[0;34m]\u001B[0m\u001B[0;34m,\u001B[0m\u001B[0;34m\u001B[0m\u001B[0;34m\u001B[0m\u001B[0m\n\u001B[0;32m-> 3158\u001B[0;31m                       \u001B[0mscreen\u001B[0m\u001B[0;34m.\u001B[0m\u001B[0m_pointlist\u001B[0m\u001B[0;34m(\u001B[0m\u001B[0mself\u001B[0m\u001B[0;34m.\u001B[0m\u001B[0mcurrentLineItem\u001B[0m\u001B[0;34m)\u001B[0m\u001B[0;34m,\u001B[0m\u001B[0;34m\u001B[0m\u001B[0;34m\u001B[0m\u001B[0m\n\u001B[0m\u001B[1;32m   3159\u001B[0m                       self.items[:])\n\u001B[1;32m   3160\u001B[0m                       )\n",
      "\u001B[0;32m~/Dokumenter/Programs/miniconda3/envs/ThinkPython-py38/lib/python3.8/turtle.py\u001B[0m in \u001B[0;36m_pointlist\u001B[0;34m(self, item)\u001B[0m\n\u001B[1;32m    753\u001B[0m         (9.9999999999999982, 0.0)]\n\u001B[1;32m    754\u001B[0m         >>> \"\"\"\n\u001B[0;32m--> 755\u001B[0;31m         \u001B[0mcl\u001B[0m \u001B[0;34m=\u001B[0m \u001B[0mself\u001B[0m\u001B[0;34m.\u001B[0m\u001B[0mcv\u001B[0m\u001B[0;34m.\u001B[0m\u001B[0mcoords\u001B[0m\u001B[0;34m(\u001B[0m\u001B[0mitem\u001B[0m\u001B[0;34m)\u001B[0m\u001B[0;34m\u001B[0m\u001B[0;34m\u001B[0m\u001B[0m\n\u001B[0m\u001B[1;32m    756\u001B[0m         \u001B[0mpl\u001B[0m \u001B[0;34m=\u001B[0m \u001B[0;34m[\u001B[0m\u001B[0;34m(\u001B[0m\u001B[0mcl\u001B[0m\u001B[0;34m[\u001B[0m\u001B[0mi\u001B[0m\u001B[0;34m]\u001B[0m\u001B[0;34m,\u001B[0m \u001B[0;34m-\u001B[0m\u001B[0mcl\u001B[0m\u001B[0;34m[\u001B[0m\u001B[0mi\u001B[0m\u001B[0;34m+\u001B[0m\u001B[0;36m1\u001B[0m\u001B[0;34m]\u001B[0m\u001B[0;34m)\u001B[0m \u001B[0;32mfor\u001B[0m \u001B[0mi\u001B[0m \u001B[0;32min\u001B[0m \u001B[0mrange\u001B[0m\u001B[0;34m(\u001B[0m\u001B[0;36m0\u001B[0m\u001B[0;34m,\u001B[0m \u001B[0mlen\u001B[0m\u001B[0;34m(\u001B[0m\u001B[0mcl\u001B[0m\u001B[0;34m)\u001B[0m\u001B[0;34m,\u001B[0m \u001B[0;36m2\u001B[0m\u001B[0;34m)\u001B[0m\u001B[0;34m]\u001B[0m\u001B[0;34m\u001B[0m\u001B[0;34m\u001B[0m\u001B[0m\n\u001B[1;32m    757\u001B[0m         \u001B[0;32mreturn\u001B[0m  \u001B[0mpl\u001B[0m\u001B[0;34m\u001B[0m\u001B[0;34m\u001B[0m\u001B[0m\n",
      "\u001B[0;32m<string>\u001B[0m in \u001B[0;36mcoords\u001B[0;34m(self, *args, **kw)\u001B[0m\n",
      "\u001B[0;32m~/Dokumenter/Programs/miniconda3/envs/ThinkPython-py38/lib/python3.8/tkinter/__init__.py\u001B[0m in \u001B[0;36mcoords\u001B[0;34m(self, *args)\u001B[0m\n\u001B[1;32m   2759\u001B[0m         return [self.tk.getdouble(x) for x in\n\u001B[1;32m   2760\u001B[0m                            self.tk.splitlist(\n\u001B[0;32m-> 2761\u001B[0;31m                    self.tk.call((self._w, 'coords') + args))]\n\u001B[0m\u001B[1;32m   2762\u001B[0m \u001B[0;34m\u001B[0m\u001B[0m\n\u001B[1;32m   2763\u001B[0m     \u001B[0;32mdef\u001B[0m \u001B[0m_create\u001B[0m\u001B[0;34m(\u001B[0m\u001B[0mself\u001B[0m\u001B[0;34m,\u001B[0m \u001B[0mitemType\u001B[0m\u001B[0;34m,\u001B[0m \u001B[0margs\u001B[0m\u001B[0;34m,\u001B[0m \u001B[0mkw\u001B[0m\u001B[0;34m)\u001B[0m\u001B[0;34m:\u001B[0m \u001B[0;31m# Args: (val, val, ..., cnf={})\u001B[0m\u001B[0;34m\u001B[0m\u001B[0;34m\u001B[0m\u001B[0m\n",
      "\u001B[0;31mTclError\u001B[0m: invalid command name \".!canvas\""
     ]
    }
   ],
   "source": [
    "for i in range(4):\n",
    "    bob.fd(100)\n",
    "    bob.lt(90)"
   ],
   "metadata": {
    "collapsed": false,
    "pycharm": {
     "name": "#%%\n"
    }
   }
  },
  {
   "cell_type": "code",
   "execution_count": 8,
   "outputs": [
    {
     "ename": "TclError",
     "evalue": "invalid command name \".!canvas\"",
     "output_type": "error",
     "traceback": [
      "\u001B[0;31m---------------------------------------------------------------------------\u001B[0m",
      "\u001B[0;31mTclError\u001B[0m                                  Traceback (most recent call last)",
      "\u001B[0;32m<ipython-input-8-335553d4160d>\u001B[0m in \u001B[0;36m<module>\u001B[0;34m\u001B[0m\n\u001B[1;32m      4\u001B[0m         \u001B[0mt\u001B[0m\u001B[0;34m.\u001B[0m\u001B[0mlt\u001B[0m\u001B[0;34m(\u001B[0m\u001B[0;36m90\u001B[0m\u001B[0;34m)\u001B[0m\u001B[0;34m\u001B[0m\u001B[0;34m\u001B[0m\u001B[0m\n\u001B[1;32m      5\u001B[0m \u001B[0;34m\u001B[0m\u001B[0m\n\u001B[0;32m----> 6\u001B[0;31m \u001B[0msquare\u001B[0m\u001B[0;34m(\u001B[0m\u001B[0mbob\u001B[0m\u001B[0;34m)\u001B[0m\u001B[0;34m\u001B[0m\u001B[0;34m\u001B[0m\u001B[0m\n\u001B[0m\u001B[1;32m      7\u001B[0m \u001B[0;34m\u001B[0m\u001B[0m\n",
      "\u001B[0;32m<ipython-input-8-335553d4160d>\u001B[0m in \u001B[0;36msquare\u001B[0;34m(t)\u001B[0m\n\u001B[1;32m      1\u001B[0m \u001B[0;32mdef\u001B[0m \u001B[0msquare\u001B[0m\u001B[0;34m(\u001B[0m\u001B[0mt\u001B[0m\u001B[0;34m)\u001B[0m\u001B[0;34m:\u001B[0m\u001B[0;34m\u001B[0m\u001B[0;34m\u001B[0m\u001B[0m\n\u001B[1;32m      2\u001B[0m     \u001B[0;32mfor\u001B[0m \u001B[0mi\u001B[0m \u001B[0;32min\u001B[0m \u001B[0mrange\u001B[0m\u001B[0;34m(\u001B[0m\u001B[0;36m4\u001B[0m\u001B[0;34m)\u001B[0m\u001B[0;34m:\u001B[0m\u001B[0;34m\u001B[0m\u001B[0;34m\u001B[0m\u001B[0m\n\u001B[0;32m----> 3\u001B[0;31m         \u001B[0mt\u001B[0m\u001B[0;34m.\u001B[0m\u001B[0mfd\u001B[0m\u001B[0;34m(\u001B[0m\u001B[0;36m100\u001B[0m\u001B[0;34m)\u001B[0m\u001B[0;34m\u001B[0m\u001B[0;34m\u001B[0m\u001B[0m\n\u001B[0m\u001B[1;32m      4\u001B[0m         \u001B[0mt\u001B[0m\u001B[0;34m.\u001B[0m\u001B[0mlt\u001B[0m\u001B[0;34m(\u001B[0m\u001B[0;36m90\u001B[0m\u001B[0;34m)\u001B[0m\u001B[0;34m\u001B[0m\u001B[0;34m\u001B[0m\u001B[0m\n\u001B[1;32m      5\u001B[0m \u001B[0;34m\u001B[0m\u001B[0m\n",
      "\u001B[0;32m~/Dokumenter/Programs/miniconda3/envs/ThinkPython-py38/lib/python3.8/turtle.py\u001B[0m in \u001B[0;36mforward\u001B[0;34m(self, distance)\u001B[0m\n\u001B[1;32m   1635\u001B[0m         \u001B[0;34m(\u001B[0m\u001B[0;34m-\u001B[0m\u001B[0;36m50.00\u001B[0m\u001B[0;34m,\u001B[0m\u001B[0;36m0.00\u001B[0m\u001B[0;34m)\u001B[0m\u001B[0;34m\u001B[0m\u001B[0;34m\u001B[0m\u001B[0m\n\u001B[1;32m   1636\u001B[0m         \"\"\"\n\u001B[0;32m-> 1637\u001B[0;31m         \u001B[0mself\u001B[0m\u001B[0;34m.\u001B[0m\u001B[0m_go\u001B[0m\u001B[0;34m(\u001B[0m\u001B[0mdistance\u001B[0m\u001B[0;34m)\u001B[0m\u001B[0;34m\u001B[0m\u001B[0;34m\u001B[0m\u001B[0m\n\u001B[0m\u001B[1;32m   1638\u001B[0m \u001B[0;34m\u001B[0m\u001B[0m\n\u001B[1;32m   1639\u001B[0m     \u001B[0;32mdef\u001B[0m \u001B[0mback\u001B[0m\u001B[0;34m(\u001B[0m\u001B[0mself\u001B[0m\u001B[0;34m,\u001B[0m \u001B[0mdistance\u001B[0m\u001B[0;34m)\u001B[0m\u001B[0;34m:\u001B[0m\u001B[0;34m\u001B[0m\u001B[0;34m\u001B[0m\u001B[0m\n",
      "\u001B[0;32m~/Dokumenter/Programs/miniconda3/envs/ThinkPython-py38/lib/python3.8/turtle.py\u001B[0m in \u001B[0;36m_go\u001B[0;34m(self, distance)\u001B[0m\n\u001B[1;32m   1603\u001B[0m         \u001B[0;34m\"\"\"move turtle forward by specified distance\"\"\"\u001B[0m\u001B[0;34m\u001B[0m\u001B[0;34m\u001B[0m\u001B[0m\n\u001B[1;32m   1604\u001B[0m         \u001B[0mende\u001B[0m \u001B[0;34m=\u001B[0m \u001B[0mself\u001B[0m\u001B[0;34m.\u001B[0m\u001B[0m_position\u001B[0m \u001B[0;34m+\u001B[0m \u001B[0mself\u001B[0m\u001B[0;34m.\u001B[0m\u001B[0m_orient\u001B[0m \u001B[0;34m*\u001B[0m \u001B[0mdistance\u001B[0m\u001B[0;34m\u001B[0m\u001B[0;34m\u001B[0m\u001B[0m\n\u001B[0;32m-> 1605\u001B[0;31m         \u001B[0mself\u001B[0m\u001B[0;34m.\u001B[0m\u001B[0m_goto\u001B[0m\u001B[0;34m(\u001B[0m\u001B[0mende\u001B[0m\u001B[0;34m)\u001B[0m\u001B[0;34m\u001B[0m\u001B[0;34m\u001B[0m\u001B[0m\n\u001B[0m\u001B[1;32m   1606\u001B[0m \u001B[0;34m\u001B[0m\u001B[0m\n\u001B[1;32m   1607\u001B[0m     \u001B[0;32mdef\u001B[0m \u001B[0m_rotate\u001B[0m\u001B[0;34m(\u001B[0m\u001B[0mself\u001B[0m\u001B[0;34m,\u001B[0m \u001B[0mangle\u001B[0m\u001B[0;34m)\u001B[0m\u001B[0;34m:\u001B[0m\u001B[0;34m\u001B[0m\u001B[0;34m\u001B[0m\u001B[0m\n",
      "\u001B[0;32m~/Dokumenter/Programs/miniconda3/envs/ThinkPython-py38/lib/python3.8/turtle.py\u001B[0m in \u001B[0;36m_goto\u001B[0;34m(self, end)\u001B[0m\n\u001B[1;32m   3156\u001B[0m                       (self.currentLineItem,\n\u001B[1;32m   3157\u001B[0m                       \u001B[0mself\u001B[0m\u001B[0;34m.\u001B[0m\u001B[0mcurrentLine\u001B[0m\u001B[0;34m[\u001B[0m\u001B[0;34m:\u001B[0m\u001B[0;34m]\u001B[0m\u001B[0;34m,\u001B[0m\u001B[0;34m\u001B[0m\u001B[0;34m\u001B[0m\u001B[0m\n\u001B[0;32m-> 3158\u001B[0;31m                       \u001B[0mscreen\u001B[0m\u001B[0;34m.\u001B[0m\u001B[0m_pointlist\u001B[0m\u001B[0;34m(\u001B[0m\u001B[0mself\u001B[0m\u001B[0;34m.\u001B[0m\u001B[0mcurrentLineItem\u001B[0m\u001B[0;34m)\u001B[0m\u001B[0;34m,\u001B[0m\u001B[0;34m\u001B[0m\u001B[0;34m\u001B[0m\u001B[0m\n\u001B[0m\u001B[1;32m   3159\u001B[0m                       self.items[:])\n\u001B[1;32m   3160\u001B[0m                       )\n",
      "\u001B[0;32m~/Dokumenter/Programs/miniconda3/envs/ThinkPython-py38/lib/python3.8/turtle.py\u001B[0m in \u001B[0;36m_pointlist\u001B[0;34m(self, item)\u001B[0m\n\u001B[1;32m    753\u001B[0m         (9.9999999999999982, 0.0)]\n\u001B[1;32m    754\u001B[0m         >>> \"\"\"\n\u001B[0;32m--> 755\u001B[0;31m         \u001B[0mcl\u001B[0m \u001B[0;34m=\u001B[0m \u001B[0mself\u001B[0m\u001B[0;34m.\u001B[0m\u001B[0mcv\u001B[0m\u001B[0;34m.\u001B[0m\u001B[0mcoords\u001B[0m\u001B[0;34m(\u001B[0m\u001B[0mitem\u001B[0m\u001B[0;34m)\u001B[0m\u001B[0;34m\u001B[0m\u001B[0;34m\u001B[0m\u001B[0m\n\u001B[0m\u001B[1;32m    756\u001B[0m         \u001B[0mpl\u001B[0m \u001B[0;34m=\u001B[0m \u001B[0;34m[\u001B[0m\u001B[0;34m(\u001B[0m\u001B[0mcl\u001B[0m\u001B[0;34m[\u001B[0m\u001B[0mi\u001B[0m\u001B[0;34m]\u001B[0m\u001B[0;34m,\u001B[0m \u001B[0;34m-\u001B[0m\u001B[0mcl\u001B[0m\u001B[0;34m[\u001B[0m\u001B[0mi\u001B[0m\u001B[0;34m+\u001B[0m\u001B[0;36m1\u001B[0m\u001B[0;34m]\u001B[0m\u001B[0;34m)\u001B[0m \u001B[0;32mfor\u001B[0m \u001B[0mi\u001B[0m \u001B[0;32min\u001B[0m \u001B[0mrange\u001B[0m\u001B[0;34m(\u001B[0m\u001B[0;36m0\u001B[0m\u001B[0;34m,\u001B[0m \u001B[0mlen\u001B[0m\u001B[0;34m(\u001B[0m\u001B[0mcl\u001B[0m\u001B[0;34m)\u001B[0m\u001B[0;34m,\u001B[0m \u001B[0;36m2\u001B[0m\u001B[0;34m)\u001B[0m\u001B[0;34m]\u001B[0m\u001B[0;34m\u001B[0m\u001B[0;34m\u001B[0m\u001B[0m\n\u001B[1;32m    757\u001B[0m         \u001B[0;32mreturn\u001B[0m  \u001B[0mpl\u001B[0m\u001B[0;34m\u001B[0m\u001B[0;34m\u001B[0m\u001B[0m\n",
      "\u001B[0;32m<string>\u001B[0m in \u001B[0;36mcoords\u001B[0;34m(self, *args, **kw)\u001B[0m\n",
      "\u001B[0;32m~/Dokumenter/Programs/miniconda3/envs/ThinkPython-py38/lib/python3.8/tkinter/__init__.py\u001B[0m in \u001B[0;36mcoords\u001B[0;34m(self, *args)\u001B[0m\n\u001B[1;32m   2759\u001B[0m         return [self.tk.getdouble(x) for x in\n\u001B[1;32m   2760\u001B[0m                            self.tk.splitlist(\n\u001B[0;32m-> 2761\u001B[0;31m                    self.tk.call((self._w, 'coords') + args))]\n\u001B[0m\u001B[1;32m   2762\u001B[0m \u001B[0;34m\u001B[0m\u001B[0m\n\u001B[1;32m   2763\u001B[0m     \u001B[0;32mdef\u001B[0m \u001B[0m_create\u001B[0m\u001B[0;34m(\u001B[0m\u001B[0mself\u001B[0m\u001B[0;34m,\u001B[0m \u001B[0mitemType\u001B[0m\u001B[0;34m,\u001B[0m \u001B[0margs\u001B[0m\u001B[0;34m,\u001B[0m \u001B[0mkw\u001B[0m\u001B[0;34m)\u001B[0m\u001B[0;34m:\u001B[0m \u001B[0;31m# Args: (val, val, ..., cnf={})\u001B[0m\u001B[0;34m\u001B[0m\u001B[0;34m\u001B[0m\u001B[0m\n",
      "\u001B[0;31mTclError\u001B[0m: invalid command name \".!canvas\""
     ]
    }
   ],
   "source": [
    "def square(t):\n",
    "    for i in range(4):\n",
    "        t.fd(100)\n",
    "        t.lt(90)\n",
    "\n",
    "square(bob)"
   ],
   "metadata": {
    "collapsed": false,
    "pycharm": {
     "name": "#%%\n"
    }
   }
  },
  {
   "cell_type": "code",
   "execution_count": 9,
   "outputs": [
    {
     "ename": "NameError",
     "evalue": "name 'Turtle' is not defined",
     "output_type": "error",
     "traceback": [
      "\u001B[0;31m---------------------------------------------------------------------------\u001B[0m",
      "\u001B[0;31mNameError\u001B[0m                                 Traceback (most recent call last)",
      "\u001B[0;32m<ipython-input-9-9804792b200e>\u001B[0m in \u001B[0;36m<module>\u001B[0;34m\u001B[0m\n\u001B[0;32m----> 1\u001B[0;31m \u001B[0malice\u001B[0m \u001B[0;34m=\u001B[0m \u001B[0mTurtle\u001B[0m\u001B[0;34m(\u001B[0m\u001B[0;34m)\u001B[0m\u001B[0;34m\u001B[0m\u001B[0;34m\u001B[0m\u001B[0m\n\u001B[0m\u001B[1;32m      2\u001B[0m \u001B[0msquare\u001B[0m\u001B[0;34m(\u001B[0m\u001B[0malice\u001B[0m\u001B[0;34m)\u001B[0m\u001B[0;34m\u001B[0m\u001B[0;34m\u001B[0m\u001B[0m\n\u001B[1;32m      3\u001B[0m \u001B[0;34m\u001B[0m\u001B[0m\n",
      "\u001B[0;31mNameError\u001B[0m: name 'Turtle' is not defined"
     ]
    }
   ],
   "source": [
    "alice = Turtle()\n",
    "square(alice)"
   ],
   "metadata": {
    "collapsed": false,
    "pycharm": {
     "name": "#%%\n"
    }
   }
  },
  {
   "cell_type": "code",
   "execution_count": 10,
   "outputs": [
    {
     "ename": "TclError",
     "evalue": "invalid command name \".!canvas\"",
     "output_type": "error",
     "traceback": [
      "\u001B[0;31m---------------------------------------------------------------------------\u001B[0m",
      "\u001B[0;31mTclError\u001B[0m                                  Traceback (most recent call last)",
      "\u001B[0;32m<ipython-input-10-a7d0dc6b12ba>\u001B[0m in \u001B[0;36m<module>\u001B[0;34m\u001B[0m\n\u001B[1;32m      4\u001B[0m         \u001B[0mt\u001B[0m\u001B[0;34m.\u001B[0m\u001B[0mlt\u001B[0m\u001B[0;34m(\u001B[0m\u001B[0;36m90\u001B[0m\u001B[0;34m)\u001B[0m\u001B[0;34m\u001B[0m\u001B[0;34m\u001B[0m\u001B[0m\n\u001B[1;32m      5\u001B[0m \u001B[0;34m\u001B[0m\u001B[0m\n\u001B[0;32m----> 6\u001B[0;31m \u001B[0msquare\u001B[0m\u001B[0;34m(\u001B[0m\u001B[0mbob\u001B[0m\u001B[0;34m,\u001B[0m \u001B[0;36m100\u001B[0m\u001B[0;34m)\u001B[0m\u001B[0;34m\u001B[0m\u001B[0;34m\u001B[0m\u001B[0m\n\u001B[0m\u001B[1;32m      7\u001B[0m \u001B[0;34m\u001B[0m\u001B[0m\n",
      "\u001B[0;32m<ipython-input-10-a7d0dc6b12ba>\u001B[0m in \u001B[0;36msquare\u001B[0;34m(t, length)\u001B[0m\n\u001B[1;32m      1\u001B[0m \u001B[0;32mdef\u001B[0m \u001B[0msquare\u001B[0m\u001B[0;34m(\u001B[0m\u001B[0mt\u001B[0m\u001B[0;34m,\u001B[0m \u001B[0mlength\u001B[0m\u001B[0;34m)\u001B[0m\u001B[0;34m:\u001B[0m\u001B[0;34m\u001B[0m\u001B[0;34m\u001B[0m\u001B[0m\n\u001B[1;32m      2\u001B[0m     \u001B[0;32mfor\u001B[0m \u001B[0mi\u001B[0m \u001B[0;32min\u001B[0m \u001B[0mrange\u001B[0m\u001B[0;34m(\u001B[0m\u001B[0;36m4\u001B[0m\u001B[0;34m)\u001B[0m\u001B[0;34m:\u001B[0m\u001B[0;34m\u001B[0m\u001B[0;34m\u001B[0m\u001B[0m\n\u001B[0;32m----> 3\u001B[0;31m         \u001B[0mt\u001B[0m\u001B[0;34m.\u001B[0m\u001B[0mfd\u001B[0m\u001B[0;34m(\u001B[0m\u001B[0mlength\u001B[0m\u001B[0;34m)\u001B[0m\u001B[0;34m\u001B[0m\u001B[0;34m\u001B[0m\u001B[0m\n\u001B[0m\u001B[1;32m      4\u001B[0m         \u001B[0mt\u001B[0m\u001B[0;34m.\u001B[0m\u001B[0mlt\u001B[0m\u001B[0;34m(\u001B[0m\u001B[0;36m90\u001B[0m\u001B[0;34m)\u001B[0m\u001B[0;34m\u001B[0m\u001B[0;34m\u001B[0m\u001B[0m\n\u001B[1;32m      5\u001B[0m \u001B[0;34m\u001B[0m\u001B[0m\n",
      "\u001B[0;32m~/Dokumenter/Programs/miniconda3/envs/ThinkPython-py38/lib/python3.8/turtle.py\u001B[0m in \u001B[0;36mforward\u001B[0;34m(self, distance)\u001B[0m\n\u001B[1;32m   1635\u001B[0m         \u001B[0;34m(\u001B[0m\u001B[0;34m-\u001B[0m\u001B[0;36m50.00\u001B[0m\u001B[0;34m,\u001B[0m\u001B[0;36m0.00\u001B[0m\u001B[0;34m)\u001B[0m\u001B[0;34m\u001B[0m\u001B[0;34m\u001B[0m\u001B[0m\n\u001B[1;32m   1636\u001B[0m         \"\"\"\n\u001B[0;32m-> 1637\u001B[0;31m         \u001B[0mself\u001B[0m\u001B[0;34m.\u001B[0m\u001B[0m_go\u001B[0m\u001B[0;34m(\u001B[0m\u001B[0mdistance\u001B[0m\u001B[0;34m)\u001B[0m\u001B[0;34m\u001B[0m\u001B[0;34m\u001B[0m\u001B[0m\n\u001B[0m\u001B[1;32m   1638\u001B[0m \u001B[0;34m\u001B[0m\u001B[0m\n\u001B[1;32m   1639\u001B[0m     \u001B[0;32mdef\u001B[0m \u001B[0mback\u001B[0m\u001B[0;34m(\u001B[0m\u001B[0mself\u001B[0m\u001B[0;34m,\u001B[0m \u001B[0mdistance\u001B[0m\u001B[0;34m)\u001B[0m\u001B[0;34m:\u001B[0m\u001B[0;34m\u001B[0m\u001B[0;34m\u001B[0m\u001B[0m\n",
      "\u001B[0;32m~/Dokumenter/Programs/miniconda3/envs/ThinkPython-py38/lib/python3.8/turtle.py\u001B[0m in \u001B[0;36m_go\u001B[0;34m(self, distance)\u001B[0m\n\u001B[1;32m   1603\u001B[0m         \u001B[0;34m\"\"\"move turtle forward by specified distance\"\"\"\u001B[0m\u001B[0;34m\u001B[0m\u001B[0;34m\u001B[0m\u001B[0m\n\u001B[1;32m   1604\u001B[0m         \u001B[0mende\u001B[0m \u001B[0;34m=\u001B[0m \u001B[0mself\u001B[0m\u001B[0;34m.\u001B[0m\u001B[0m_position\u001B[0m \u001B[0;34m+\u001B[0m \u001B[0mself\u001B[0m\u001B[0;34m.\u001B[0m\u001B[0m_orient\u001B[0m \u001B[0;34m*\u001B[0m \u001B[0mdistance\u001B[0m\u001B[0;34m\u001B[0m\u001B[0;34m\u001B[0m\u001B[0m\n\u001B[0;32m-> 1605\u001B[0;31m         \u001B[0mself\u001B[0m\u001B[0;34m.\u001B[0m\u001B[0m_goto\u001B[0m\u001B[0;34m(\u001B[0m\u001B[0mende\u001B[0m\u001B[0;34m)\u001B[0m\u001B[0;34m\u001B[0m\u001B[0;34m\u001B[0m\u001B[0m\n\u001B[0m\u001B[1;32m   1606\u001B[0m \u001B[0;34m\u001B[0m\u001B[0m\n\u001B[1;32m   1607\u001B[0m     \u001B[0;32mdef\u001B[0m \u001B[0m_rotate\u001B[0m\u001B[0;34m(\u001B[0m\u001B[0mself\u001B[0m\u001B[0;34m,\u001B[0m \u001B[0mangle\u001B[0m\u001B[0;34m)\u001B[0m\u001B[0;34m:\u001B[0m\u001B[0;34m\u001B[0m\u001B[0;34m\u001B[0m\u001B[0m\n",
      "\u001B[0;32m~/Dokumenter/Programs/miniconda3/envs/ThinkPython-py38/lib/python3.8/turtle.py\u001B[0m in \u001B[0;36m_goto\u001B[0;34m(self, end)\u001B[0m\n\u001B[1;32m   3156\u001B[0m                       (self.currentLineItem,\n\u001B[1;32m   3157\u001B[0m                       \u001B[0mself\u001B[0m\u001B[0;34m.\u001B[0m\u001B[0mcurrentLine\u001B[0m\u001B[0;34m[\u001B[0m\u001B[0;34m:\u001B[0m\u001B[0;34m]\u001B[0m\u001B[0;34m,\u001B[0m\u001B[0;34m\u001B[0m\u001B[0;34m\u001B[0m\u001B[0m\n\u001B[0;32m-> 3158\u001B[0;31m                       \u001B[0mscreen\u001B[0m\u001B[0;34m.\u001B[0m\u001B[0m_pointlist\u001B[0m\u001B[0;34m(\u001B[0m\u001B[0mself\u001B[0m\u001B[0;34m.\u001B[0m\u001B[0mcurrentLineItem\u001B[0m\u001B[0;34m)\u001B[0m\u001B[0;34m,\u001B[0m\u001B[0;34m\u001B[0m\u001B[0;34m\u001B[0m\u001B[0m\n\u001B[0m\u001B[1;32m   3159\u001B[0m                       self.items[:])\n\u001B[1;32m   3160\u001B[0m                       )\n",
      "\u001B[0;32m~/Dokumenter/Programs/miniconda3/envs/ThinkPython-py38/lib/python3.8/turtle.py\u001B[0m in \u001B[0;36m_pointlist\u001B[0;34m(self, item)\u001B[0m\n\u001B[1;32m    753\u001B[0m         (9.9999999999999982, 0.0)]\n\u001B[1;32m    754\u001B[0m         >>> \"\"\"\n\u001B[0;32m--> 755\u001B[0;31m         \u001B[0mcl\u001B[0m \u001B[0;34m=\u001B[0m \u001B[0mself\u001B[0m\u001B[0;34m.\u001B[0m\u001B[0mcv\u001B[0m\u001B[0;34m.\u001B[0m\u001B[0mcoords\u001B[0m\u001B[0;34m(\u001B[0m\u001B[0mitem\u001B[0m\u001B[0;34m)\u001B[0m\u001B[0;34m\u001B[0m\u001B[0;34m\u001B[0m\u001B[0m\n\u001B[0m\u001B[1;32m    756\u001B[0m         \u001B[0mpl\u001B[0m \u001B[0;34m=\u001B[0m \u001B[0;34m[\u001B[0m\u001B[0;34m(\u001B[0m\u001B[0mcl\u001B[0m\u001B[0;34m[\u001B[0m\u001B[0mi\u001B[0m\u001B[0;34m]\u001B[0m\u001B[0;34m,\u001B[0m \u001B[0;34m-\u001B[0m\u001B[0mcl\u001B[0m\u001B[0;34m[\u001B[0m\u001B[0mi\u001B[0m\u001B[0;34m+\u001B[0m\u001B[0;36m1\u001B[0m\u001B[0;34m]\u001B[0m\u001B[0;34m)\u001B[0m \u001B[0;32mfor\u001B[0m \u001B[0mi\u001B[0m \u001B[0;32min\u001B[0m \u001B[0mrange\u001B[0m\u001B[0;34m(\u001B[0m\u001B[0;36m0\u001B[0m\u001B[0;34m,\u001B[0m \u001B[0mlen\u001B[0m\u001B[0;34m(\u001B[0m\u001B[0mcl\u001B[0m\u001B[0;34m)\u001B[0m\u001B[0;34m,\u001B[0m \u001B[0;36m2\u001B[0m\u001B[0;34m)\u001B[0m\u001B[0;34m]\u001B[0m\u001B[0;34m\u001B[0m\u001B[0;34m\u001B[0m\u001B[0m\n\u001B[1;32m    757\u001B[0m         \u001B[0;32mreturn\u001B[0m  \u001B[0mpl\u001B[0m\u001B[0;34m\u001B[0m\u001B[0;34m\u001B[0m\u001B[0m\n",
      "\u001B[0;32m<string>\u001B[0m in \u001B[0;36mcoords\u001B[0;34m(self, *args, **kw)\u001B[0m\n",
      "\u001B[0;32m~/Dokumenter/Programs/miniconda3/envs/ThinkPython-py38/lib/python3.8/tkinter/__init__.py\u001B[0m in \u001B[0;36mcoords\u001B[0;34m(self, *args)\u001B[0m\n\u001B[1;32m   2759\u001B[0m         return [self.tk.getdouble(x) for x in\n\u001B[1;32m   2760\u001B[0m                            self.tk.splitlist(\n\u001B[0;32m-> 2761\u001B[0;31m                    self.tk.call((self._w, 'coords') + args))]\n\u001B[0m\u001B[1;32m   2762\u001B[0m \u001B[0;34m\u001B[0m\u001B[0m\n\u001B[1;32m   2763\u001B[0m     \u001B[0;32mdef\u001B[0m \u001B[0m_create\u001B[0m\u001B[0;34m(\u001B[0m\u001B[0mself\u001B[0m\u001B[0;34m,\u001B[0m \u001B[0mitemType\u001B[0m\u001B[0;34m,\u001B[0m \u001B[0margs\u001B[0m\u001B[0;34m,\u001B[0m \u001B[0mkw\u001B[0m\u001B[0;34m)\u001B[0m\u001B[0;34m:\u001B[0m \u001B[0;31m# Args: (val, val, ..., cnf={})\u001B[0m\u001B[0;34m\u001B[0m\u001B[0;34m\u001B[0m\u001B[0m\n",
      "\u001B[0;31mTclError\u001B[0m: invalid command name \".!canvas\""
     ]
    }
   ],
   "source": [
    "def square(t, length):\n",
    "    for i in range(4):\n",
    "        t.fd(length)\n",
    "        t.lt(90)\n",
    "\n",
    "square(bob, 100)"
   ],
   "metadata": {
    "collapsed": false,
    "pycharm": {
     "name": "#%%\n"
    }
   }
  },
  {
   "cell_type": "code",
   "execution_count": 11,
   "outputs": [
    {
     "ename": "TclError",
     "evalue": "invalid command name \".!canvas\"",
     "output_type": "error",
     "traceback": [
      "\u001B[0;31m---------------------------------------------------------------------------\u001B[0m",
      "\u001B[0;31mTclError\u001B[0m                                  Traceback (most recent call last)",
      "\u001B[0;32m<ipython-input-11-dc8ea2ec025a>\u001B[0m in \u001B[0;36m<module>\u001B[0;34m\u001B[0m\n\u001B[1;32m      5\u001B[0m         \u001B[0mt\u001B[0m\u001B[0;34m.\u001B[0m\u001B[0mlt\u001B[0m\u001B[0;34m(\u001B[0m\u001B[0mangle\u001B[0m\u001B[0;34m)\u001B[0m\u001B[0;34m\u001B[0m\u001B[0;34m\u001B[0m\u001B[0m\n\u001B[1;32m      6\u001B[0m \u001B[0;34m\u001B[0m\u001B[0m\n\u001B[0;32m----> 7\u001B[0;31m \u001B[0mpolygon\u001B[0m\u001B[0;34m(\u001B[0m\u001B[0mbob\u001B[0m\u001B[0;34m,\u001B[0m \u001B[0;36m7\u001B[0m\u001B[0;34m,\u001B[0m \u001B[0;36m70\u001B[0m\u001B[0;34m)\u001B[0m\u001B[0;34m\u001B[0m\u001B[0;34m\u001B[0m\u001B[0m\n\u001B[0m\u001B[1;32m      8\u001B[0m \u001B[0;34m\u001B[0m\u001B[0m\n",
      "\u001B[0;32m<ipython-input-11-dc8ea2ec025a>\u001B[0m in \u001B[0;36mpolygon\u001B[0;34m(t, n, length)\u001B[0m\n\u001B[1;32m      2\u001B[0m     \u001B[0mangle\u001B[0m \u001B[0;34m=\u001B[0m \u001B[0;36m360\u001B[0m \u001B[0;34m/\u001B[0m \u001B[0mn\u001B[0m\u001B[0;34m\u001B[0m\u001B[0;34m\u001B[0m\u001B[0m\n\u001B[1;32m      3\u001B[0m     \u001B[0;32mfor\u001B[0m \u001B[0mi\u001B[0m \u001B[0;32min\u001B[0m \u001B[0mrange\u001B[0m\u001B[0;34m(\u001B[0m\u001B[0mn\u001B[0m\u001B[0;34m)\u001B[0m\u001B[0;34m:\u001B[0m\u001B[0;34m\u001B[0m\u001B[0;34m\u001B[0m\u001B[0m\n\u001B[0;32m----> 4\u001B[0;31m         \u001B[0mt\u001B[0m\u001B[0;34m.\u001B[0m\u001B[0mfd\u001B[0m\u001B[0;34m(\u001B[0m\u001B[0mlength\u001B[0m\u001B[0;34m)\u001B[0m\u001B[0;34m\u001B[0m\u001B[0;34m\u001B[0m\u001B[0m\n\u001B[0m\u001B[1;32m      5\u001B[0m         \u001B[0mt\u001B[0m\u001B[0;34m.\u001B[0m\u001B[0mlt\u001B[0m\u001B[0;34m(\u001B[0m\u001B[0mangle\u001B[0m\u001B[0;34m)\u001B[0m\u001B[0;34m\u001B[0m\u001B[0;34m\u001B[0m\u001B[0m\n\u001B[1;32m      6\u001B[0m \u001B[0;34m\u001B[0m\u001B[0m\n",
      "\u001B[0;32m~/Dokumenter/Programs/miniconda3/envs/ThinkPython-py38/lib/python3.8/turtle.py\u001B[0m in \u001B[0;36mforward\u001B[0;34m(self, distance)\u001B[0m\n\u001B[1;32m   1635\u001B[0m         \u001B[0;34m(\u001B[0m\u001B[0;34m-\u001B[0m\u001B[0;36m50.00\u001B[0m\u001B[0;34m,\u001B[0m\u001B[0;36m0.00\u001B[0m\u001B[0;34m)\u001B[0m\u001B[0;34m\u001B[0m\u001B[0;34m\u001B[0m\u001B[0m\n\u001B[1;32m   1636\u001B[0m         \"\"\"\n\u001B[0;32m-> 1637\u001B[0;31m         \u001B[0mself\u001B[0m\u001B[0;34m.\u001B[0m\u001B[0m_go\u001B[0m\u001B[0;34m(\u001B[0m\u001B[0mdistance\u001B[0m\u001B[0;34m)\u001B[0m\u001B[0;34m\u001B[0m\u001B[0;34m\u001B[0m\u001B[0m\n\u001B[0m\u001B[1;32m   1638\u001B[0m \u001B[0;34m\u001B[0m\u001B[0m\n\u001B[1;32m   1639\u001B[0m     \u001B[0;32mdef\u001B[0m \u001B[0mback\u001B[0m\u001B[0;34m(\u001B[0m\u001B[0mself\u001B[0m\u001B[0;34m,\u001B[0m \u001B[0mdistance\u001B[0m\u001B[0;34m)\u001B[0m\u001B[0;34m:\u001B[0m\u001B[0;34m\u001B[0m\u001B[0;34m\u001B[0m\u001B[0m\n",
      "\u001B[0;32m~/Dokumenter/Programs/miniconda3/envs/ThinkPython-py38/lib/python3.8/turtle.py\u001B[0m in \u001B[0;36m_go\u001B[0;34m(self, distance)\u001B[0m\n\u001B[1;32m   1603\u001B[0m         \u001B[0;34m\"\"\"move turtle forward by specified distance\"\"\"\u001B[0m\u001B[0;34m\u001B[0m\u001B[0;34m\u001B[0m\u001B[0m\n\u001B[1;32m   1604\u001B[0m         \u001B[0mende\u001B[0m \u001B[0;34m=\u001B[0m \u001B[0mself\u001B[0m\u001B[0;34m.\u001B[0m\u001B[0m_position\u001B[0m \u001B[0;34m+\u001B[0m \u001B[0mself\u001B[0m\u001B[0;34m.\u001B[0m\u001B[0m_orient\u001B[0m \u001B[0;34m*\u001B[0m \u001B[0mdistance\u001B[0m\u001B[0;34m\u001B[0m\u001B[0;34m\u001B[0m\u001B[0m\n\u001B[0;32m-> 1605\u001B[0;31m         \u001B[0mself\u001B[0m\u001B[0;34m.\u001B[0m\u001B[0m_goto\u001B[0m\u001B[0;34m(\u001B[0m\u001B[0mende\u001B[0m\u001B[0;34m)\u001B[0m\u001B[0;34m\u001B[0m\u001B[0;34m\u001B[0m\u001B[0m\n\u001B[0m\u001B[1;32m   1606\u001B[0m \u001B[0;34m\u001B[0m\u001B[0m\n\u001B[1;32m   1607\u001B[0m     \u001B[0;32mdef\u001B[0m \u001B[0m_rotate\u001B[0m\u001B[0;34m(\u001B[0m\u001B[0mself\u001B[0m\u001B[0;34m,\u001B[0m \u001B[0mangle\u001B[0m\u001B[0;34m)\u001B[0m\u001B[0;34m:\u001B[0m\u001B[0;34m\u001B[0m\u001B[0;34m\u001B[0m\u001B[0m\n",
      "\u001B[0;32m~/Dokumenter/Programs/miniconda3/envs/ThinkPython-py38/lib/python3.8/turtle.py\u001B[0m in \u001B[0;36m_goto\u001B[0;34m(self, end)\u001B[0m\n\u001B[1;32m   3156\u001B[0m                       (self.currentLineItem,\n\u001B[1;32m   3157\u001B[0m                       \u001B[0mself\u001B[0m\u001B[0;34m.\u001B[0m\u001B[0mcurrentLine\u001B[0m\u001B[0;34m[\u001B[0m\u001B[0;34m:\u001B[0m\u001B[0;34m]\u001B[0m\u001B[0;34m,\u001B[0m\u001B[0;34m\u001B[0m\u001B[0;34m\u001B[0m\u001B[0m\n\u001B[0;32m-> 3158\u001B[0;31m                       \u001B[0mscreen\u001B[0m\u001B[0;34m.\u001B[0m\u001B[0m_pointlist\u001B[0m\u001B[0;34m(\u001B[0m\u001B[0mself\u001B[0m\u001B[0;34m.\u001B[0m\u001B[0mcurrentLineItem\u001B[0m\u001B[0;34m)\u001B[0m\u001B[0;34m,\u001B[0m\u001B[0;34m\u001B[0m\u001B[0;34m\u001B[0m\u001B[0m\n\u001B[0m\u001B[1;32m   3159\u001B[0m                       self.items[:])\n\u001B[1;32m   3160\u001B[0m                       )\n",
      "\u001B[0;32m~/Dokumenter/Programs/miniconda3/envs/ThinkPython-py38/lib/python3.8/turtle.py\u001B[0m in \u001B[0;36m_pointlist\u001B[0;34m(self, item)\u001B[0m\n\u001B[1;32m    753\u001B[0m         (9.9999999999999982, 0.0)]\n\u001B[1;32m    754\u001B[0m         >>> \"\"\"\n\u001B[0;32m--> 755\u001B[0;31m         \u001B[0mcl\u001B[0m \u001B[0;34m=\u001B[0m \u001B[0mself\u001B[0m\u001B[0;34m.\u001B[0m\u001B[0mcv\u001B[0m\u001B[0;34m.\u001B[0m\u001B[0mcoords\u001B[0m\u001B[0;34m(\u001B[0m\u001B[0mitem\u001B[0m\u001B[0;34m)\u001B[0m\u001B[0;34m\u001B[0m\u001B[0;34m\u001B[0m\u001B[0m\n\u001B[0m\u001B[1;32m    756\u001B[0m         \u001B[0mpl\u001B[0m \u001B[0;34m=\u001B[0m \u001B[0;34m[\u001B[0m\u001B[0;34m(\u001B[0m\u001B[0mcl\u001B[0m\u001B[0;34m[\u001B[0m\u001B[0mi\u001B[0m\u001B[0;34m]\u001B[0m\u001B[0;34m,\u001B[0m \u001B[0;34m-\u001B[0m\u001B[0mcl\u001B[0m\u001B[0;34m[\u001B[0m\u001B[0mi\u001B[0m\u001B[0;34m+\u001B[0m\u001B[0;36m1\u001B[0m\u001B[0;34m]\u001B[0m\u001B[0;34m)\u001B[0m \u001B[0;32mfor\u001B[0m \u001B[0mi\u001B[0m \u001B[0;32min\u001B[0m \u001B[0mrange\u001B[0m\u001B[0;34m(\u001B[0m\u001B[0;36m0\u001B[0m\u001B[0;34m,\u001B[0m \u001B[0mlen\u001B[0m\u001B[0;34m(\u001B[0m\u001B[0mcl\u001B[0m\u001B[0;34m)\u001B[0m\u001B[0;34m,\u001B[0m \u001B[0;36m2\u001B[0m\u001B[0;34m)\u001B[0m\u001B[0;34m]\u001B[0m\u001B[0;34m\u001B[0m\u001B[0;34m\u001B[0m\u001B[0m\n\u001B[1;32m    757\u001B[0m         \u001B[0;32mreturn\u001B[0m  \u001B[0mpl\u001B[0m\u001B[0;34m\u001B[0m\u001B[0;34m\u001B[0m\u001B[0m\n",
      "\u001B[0;32m<string>\u001B[0m in \u001B[0;36mcoords\u001B[0;34m(self, *args, **kw)\u001B[0m\n",
      "\u001B[0;32m~/Dokumenter/Programs/miniconda3/envs/ThinkPython-py38/lib/python3.8/tkinter/__init__.py\u001B[0m in \u001B[0;36mcoords\u001B[0;34m(self, *args)\u001B[0m\n\u001B[1;32m   2759\u001B[0m         return [self.tk.getdouble(x) for x in\n\u001B[1;32m   2760\u001B[0m                            self.tk.splitlist(\n\u001B[0;32m-> 2761\u001B[0;31m                    self.tk.call((self._w, 'coords') + args))]\n\u001B[0m\u001B[1;32m   2762\u001B[0m \u001B[0;34m\u001B[0m\u001B[0m\n\u001B[1;32m   2763\u001B[0m     \u001B[0;32mdef\u001B[0m \u001B[0m_create\u001B[0m\u001B[0;34m(\u001B[0m\u001B[0mself\u001B[0m\u001B[0;34m,\u001B[0m \u001B[0mitemType\u001B[0m\u001B[0;34m,\u001B[0m \u001B[0margs\u001B[0m\u001B[0;34m,\u001B[0m \u001B[0mkw\u001B[0m\u001B[0;34m)\u001B[0m\u001B[0;34m:\u001B[0m \u001B[0;31m# Args: (val, val, ..., cnf={})\u001B[0m\u001B[0;34m\u001B[0m\u001B[0;34m\u001B[0m\u001B[0m\n",
      "\u001B[0;31mTclError\u001B[0m: invalid command name \".!canvas\""
     ]
    }
   ],
   "source": [
    "def polygon(t, n, length):\n",
    "    angle = 360 / n\n",
    "    for i in range(n):\n",
    "        t.fd(length)\n",
    "        t.lt(angle)\n",
    "\n",
    "polygon(bob, 7, 70)"
   ],
   "metadata": {
    "collapsed": false,
    "pycharm": {
     "name": "#%%\n"
    }
   }
  },
  {
   "cell_type": "code",
   "execution_count": 12,
   "outputs": [
    {
     "ename": "TclError",
     "evalue": "invalid command name \".!canvas\"",
     "output_type": "error",
     "traceback": [
      "\u001B[0;31m---------------------------------------------------------------------------\u001B[0m",
      "\u001B[0;31mTclError\u001B[0m                                  Traceback (most recent call last)",
      "\u001B[0;32m<ipython-input-12-0331aac1c982>\u001B[0m in \u001B[0;36m<module>\u001B[0;34m\u001B[0m\n\u001B[0;32m----> 1\u001B[0;31m \u001B[0mpolygon\u001B[0m\u001B[0;34m(\u001B[0m\u001B[0mbob\u001B[0m\u001B[0;34m,\u001B[0m \u001B[0mn\u001B[0m\u001B[0;34m=\u001B[0m\u001B[0;36m7\u001B[0m\u001B[0;34m,\u001B[0m \u001B[0mlength\u001B[0m\u001B[0;34m=\u001B[0m\u001B[0;36m70\u001B[0m\u001B[0;34m)\u001B[0m\u001B[0;34m\u001B[0m\u001B[0;34m\u001B[0m\u001B[0m\n\u001B[0m\u001B[1;32m      2\u001B[0m \u001B[0;34m\u001B[0m\u001B[0m\n",
      "\u001B[0;32m<ipython-input-11-dc8ea2ec025a>\u001B[0m in \u001B[0;36mpolygon\u001B[0;34m(t, n, length)\u001B[0m\n\u001B[1;32m      2\u001B[0m     \u001B[0mangle\u001B[0m \u001B[0;34m=\u001B[0m \u001B[0;36m360\u001B[0m \u001B[0;34m/\u001B[0m \u001B[0mn\u001B[0m\u001B[0;34m\u001B[0m\u001B[0;34m\u001B[0m\u001B[0m\n\u001B[1;32m      3\u001B[0m     \u001B[0;32mfor\u001B[0m \u001B[0mi\u001B[0m \u001B[0;32min\u001B[0m \u001B[0mrange\u001B[0m\u001B[0;34m(\u001B[0m\u001B[0mn\u001B[0m\u001B[0;34m)\u001B[0m\u001B[0;34m:\u001B[0m\u001B[0;34m\u001B[0m\u001B[0;34m\u001B[0m\u001B[0m\n\u001B[0;32m----> 4\u001B[0;31m         \u001B[0mt\u001B[0m\u001B[0;34m.\u001B[0m\u001B[0mfd\u001B[0m\u001B[0;34m(\u001B[0m\u001B[0mlength\u001B[0m\u001B[0;34m)\u001B[0m\u001B[0;34m\u001B[0m\u001B[0;34m\u001B[0m\u001B[0m\n\u001B[0m\u001B[1;32m      5\u001B[0m         \u001B[0mt\u001B[0m\u001B[0;34m.\u001B[0m\u001B[0mlt\u001B[0m\u001B[0;34m(\u001B[0m\u001B[0mangle\u001B[0m\u001B[0;34m)\u001B[0m\u001B[0;34m\u001B[0m\u001B[0;34m\u001B[0m\u001B[0m\n\u001B[1;32m      6\u001B[0m \u001B[0;34m\u001B[0m\u001B[0m\n",
      "\u001B[0;32m~/Dokumenter/Programs/miniconda3/envs/ThinkPython-py38/lib/python3.8/turtle.py\u001B[0m in \u001B[0;36mforward\u001B[0;34m(self, distance)\u001B[0m\n\u001B[1;32m   1635\u001B[0m         \u001B[0;34m(\u001B[0m\u001B[0;34m-\u001B[0m\u001B[0;36m50.00\u001B[0m\u001B[0;34m,\u001B[0m\u001B[0;36m0.00\u001B[0m\u001B[0;34m)\u001B[0m\u001B[0;34m\u001B[0m\u001B[0;34m\u001B[0m\u001B[0m\n\u001B[1;32m   1636\u001B[0m         \"\"\"\n\u001B[0;32m-> 1637\u001B[0;31m         \u001B[0mself\u001B[0m\u001B[0;34m.\u001B[0m\u001B[0m_go\u001B[0m\u001B[0;34m(\u001B[0m\u001B[0mdistance\u001B[0m\u001B[0;34m)\u001B[0m\u001B[0;34m\u001B[0m\u001B[0;34m\u001B[0m\u001B[0m\n\u001B[0m\u001B[1;32m   1638\u001B[0m \u001B[0;34m\u001B[0m\u001B[0m\n\u001B[1;32m   1639\u001B[0m     \u001B[0;32mdef\u001B[0m \u001B[0mback\u001B[0m\u001B[0;34m(\u001B[0m\u001B[0mself\u001B[0m\u001B[0;34m,\u001B[0m \u001B[0mdistance\u001B[0m\u001B[0;34m)\u001B[0m\u001B[0;34m:\u001B[0m\u001B[0;34m\u001B[0m\u001B[0;34m\u001B[0m\u001B[0m\n",
      "\u001B[0;32m~/Dokumenter/Programs/miniconda3/envs/ThinkPython-py38/lib/python3.8/turtle.py\u001B[0m in \u001B[0;36m_go\u001B[0;34m(self, distance)\u001B[0m\n\u001B[1;32m   1603\u001B[0m         \u001B[0;34m\"\"\"move turtle forward by specified distance\"\"\"\u001B[0m\u001B[0;34m\u001B[0m\u001B[0;34m\u001B[0m\u001B[0m\n\u001B[1;32m   1604\u001B[0m         \u001B[0mende\u001B[0m \u001B[0;34m=\u001B[0m \u001B[0mself\u001B[0m\u001B[0;34m.\u001B[0m\u001B[0m_position\u001B[0m \u001B[0;34m+\u001B[0m \u001B[0mself\u001B[0m\u001B[0;34m.\u001B[0m\u001B[0m_orient\u001B[0m \u001B[0;34m*\u001B[0m \u001B[0mdistance\u001B[0m\u001B[0;34m\u001B[0m\u001B[0;34m\u001B[0m\u001B[0m\n\u001B[0;32m-> 1605\u001B[0;31m         \u001B[0mself\u001B[0m\u001B[0;34m.\u001B[0m\u001B[0m_goto\u001B[0m\u001B[0;34m(\u001B[0m\u001B[0mende\u001B[0m\u001B[0;34m)\u001B[0m\u001B[0;34m\u001B[0m\u001B[0;34m\u001B[0m\u001B[0m\n\u001B[0m\u001B[1;32m   1606\u001B[0m \u001B[0;34m\u001B[0m\u001B[0m\n\u001B[1;32m   1607\u001B[0m     \u001B[0;32mdef\u001B[0m \u001B[0m_rotate\u001B[0m\u001B[0;34m(\u001B[0m\u001B[0mself\u001B[0m\u001B[0;34m,\u001B[0m \u001B[0mangle\u001B[0m\u001B[0;34m)\u001B[0m\u001B[0;34m:\u001B[0m\u001B[0;34m\u001B[0m\u001B[0;34m\u001B[0m\u001B[0m\n",
      "\u001B[0;32m~/Dokumenter/Programs/miniconda3/envs/ThinkPython-py38/lib/python3.8/turtle.py\u001B[0m in \u001B[0;36m_goto\u001B[0;34m(self, end)\u001B[0m\n\u001B[1;32m   3156\u001B[0m                       (self.currentLineItem,\n\u001B[1;32m   3157\u001B[0m                       \u001B[0mself\u001B[0m\u001B[0;34m.\u001B[0m\u001B[0mcurrentLine\u001B[0m\u001B[0;34m[\u001B[0m\u001B[0;34m:\u001B[0m\u001B[0;34m]\u001B[0m\u001B[0;34m,\u001B[0m\u001B[0;34m\u001B[0m\u001B[0;34m\u001B[0m\u001B[0m\n\u001B[0;32m-> 3158\u001B[0;31m                       \u001B[0mscreen\u001B[0m\u001B[0;34m.\u001B[0m\u001B[0m_pointlist\u001B[0m\u001B[0;34m(\u001B[0m\u001B[0mself\u001B[0m\u001B[0;34m.\u001B[0m\u001B[0mcurrentLineItem\u001B[0m\u001B[0;34m)\u001B[0m\u001B[0;34m,\u001B[0m\u001B[0;34m\u001B[0m\u001B[0;34m\u001B[0m\u001B[0m\n\u001B[0m\u001B[1;32m   3159\u001B[0m                       self.items[:])\n\u001B[1;32m   3160\u001B[0m                       )\n",
      "\u001B[0;32m~/Dokumenter/Programs/miniconda3/envs/ThinkPython-py38/lib/python3.8/turtle.py\u001B[0m in \u001B[0;36m_pointlist\u001B[0;34m(self, item)\u001B[0m\n\u001B[1;32m    753\u001B[0m         (9.9999999999999982, 0.0)]\n\u001B[1;32m    754\u001B[0m         >>> \"\"\"\n\u001B[0;32m--> 755\u001B[0;31m         \u001B[0mcl\u001B[0m \u001B[0;34m=\u001B[0m \u001B[0mself\u001B[0m\u001B[0;34m.\u001B[0m\u001B[0mcv\u001B[0m\u001B[0;34m.\u001B[0m\u001B[0mcoords\u001B[0m\u001B[0;34m(\u001B[0m\u001B[0mitem\u001B[0m\u001B[0;34m)\u001B[0m\u001B[0;34m\u001B[0m\u001B[0;34m\u001B[0m\u001B[0m\n\u001B[0m\u001B[1;32m    756\u001B[0m         \u001B[0mpl\u001B[0m \u001B[0;34m=\u001B[0m \u001B[0;34m[\u001B[0m\u001B[0;34m(\u001B[0m\u001B[0mcl\u001B[0m\u001B[0;34m[\u001B[0m\u001B[0mi\u001B[0m\u001B[0;34m]\u001B[0m\u001B[0;34m,\u001B[0m \u001B[0;34m-\u001B[0m\u001B[0mcl\u001B[0m\u001B[0;34m[\u001B[0m\u001B[0mi\u001B[0m\u001B[0;34m+\u001B[0m\u001B[0;36m1\u001B[0m\u001B[0;34m]\u001B[0m\u001B[0;34m)\u001B[0m \u001B[0;32mfor\u001B[0m \u001B[0mi\u001B[0m \u001B[0;32min\u001B[0m \u001B[0mrange\u001B[0m\u001B[0;34m(\u001B[0m\u001B[0;36m0\u001B[0m\u001B[0;34m,\u001B[0m \u001B[0mlen\u001B[0m\u001B[0;34m(\u001B[0m\u001B[0mcl\u001B[0m\u001B[0;34m)\u001B[0m\u001B[0;34m,\u001B[0m \u001B[0;36m2\u001B[0m\u001B[0;34m)\u001B[0m\u001B[0;34m]\u001B[0m\u001B[0;34m\u001B[0m\u001B[0;34m\u001B[0m\u001B[0m\n\u001B[1;32m    757\u001B[0m         \u001B[0;32mreturn\u001B[0m  \u001B[0mpl\u001B[0m\u001B[0;34m\u001B[0m\u001B[0;34m\u001B[0m\u001B[0m\n",
      "\u001B[0;32m<string>\u001B[0m in \u001B[0;36mcoords\u001B[0;34m(self, *args, **kw)\u001B[0m\n",
      "\u001B[0;32m~/Dokumenter/Programs/miniconda3/envs/ThinkPython-py38/lib/python3.8/tkinter/__init__.py\u001B[0m in \u001B[0;36mcoords\u001B[0;34m(self, *args)\u001B[0m\n\u001B[1;32m   2759\u001B[0m         return [self.tk.getdouble(x) for x in\n\u001B[1;32m   2760\u001B[0m                            self.tk.splitlist(\n\u001B[0;32m-> 2761\u001B[0;31m                    self.tk.call((self._w, 'coords') + args))]\n\u001B[0m\u001B[1;32m   2762\u001B[0m \u001B[0;34m\u001B[0m\u001B[0m\n\u001B[1;32m   2763\u001B[0m     \u001B[0;32mdef\u001B[0m \u001B[0m_create\u001B[0m\u001B[0;34m(\u001B[0m\u001B[0mself\u001B[0m\u001B[0;34m,\u001B[0m \u001B[0mitemType\u001B[0m\u001B[0;34m,\u001B[0m \u001B[0margs\u001B[0m\u001B[0;34m,\u001B[0m \u001B[0mkw\u001B[0m\u001B[0;34m)\u001B[0m\u001B[0;34m:\u001B[0m \u001B[0;31m# Args: (val, val, ..., cnf={})\u001B[0m\u001B[0;34m\u001B[0m\u001B[0;34m\u001B[0m\u001B[0m\n",
      "\u001B[0;31mTclError\u001B[0m: invalid command name \".!canvas\""
     ]
    }
   ],
   "source": [
    "polygon(bob, n=7, length=70)"
   ],
   "metadata": {
    "collapsed": false,
    "pycharm": {
     "name": "#%%\n"
    }
   }
  },
  {
   "cell_type": "code",
   "execution_count": 13,
   "outputs": [],
   "source": [
    "import math\n",
    "\n",
    "def circle(t, r):\n",
    "    circumference = 2 * math.pi * r\n",
    "    n = 50\n",
    "    length = circumference / n\n",
    "    polygon(t, n, length)"
   ],
   "metadata": {
    "collapsed": false,
    "pycharm": {
     "name": "#%%\n"
    }
   }
  },
  {
   "cell_type": "code",
   "execution_count": 14,
   "outputs": [],
   "source": [
    "def circle(t, r):\n",
    "    circumference = 2 * math.pi * r\n",
    "    n = int(circumference / 3) + 1\n",
    "    length = circumference / n\n",
    "    polygon(t, n, length)"
   ],
   "metadata": {
    "collapsed": false,
    "pycharm": {
     "name": "#%%\n"
    }
   }
  },
  {
   "cell_type": "code",
   "execution_count": 15,
   "outputs": [],
   "source": [
    "def arc(t, r, angle):\n",
    "    arc_length = 2 * math.pi * r * angle / 360\n",
    "    n = int(arc_length / 3) + 1\n",
    "    step_length = arc_length / n\n",
    "    step_angle = angle / n\n",
    "\n",
    "    for i in range(n):\n",
    "        t.fd(step_length)\n",
    "        t.lt(step_angle)"
   ],
   "metadata": {
    "collapsed": false,
    "pycharm": {
     "name": "#%%\n"
    }
   }
  },
  {
   "cell_type": "code",
   "execution_count": 16,
   "outputs": [],
   "source": [
    "def polyline(t, n, length, angle):\n",
    "    for i in range(n):\n",
    "        t.fd(length)\n",
    "        t.lt(angle)"
   ],
   "metadata": {
    "collapsed": false,
    "pycharm": {
     "name": "#%%\n"
    }
   }
  },
  {
   "cell_type": "code",
   "execution_count": 17,
   "outputs": [],
   "source": [
    "def polygon(t, n, length):\n",
    "    angle = 360.0 / n\n",
    "    polyline(t, n, length, angle)\n",
    "\n",
    "def arc(t, r, angle):\n",
    "    arc_length = 2 * math.pi * r * angle / 360\n",
    "    n = int(arc_length / 3) + 1\n",
    "    step_length = arc_length / n\n",
    "    step_angle = float(angle) / n\n",
    "    polyline(t, n, step_length, step_angle)"
   ],
   "metadata": {
    "collapsed": false,
    "pycharm": {
     "name": "#%%\n"
    }
   }
  },
  {
   "cell_type": "code",
   "execution_count": 18,
   "outputs": [],
   "source": [
    "def circle(t, r):\n",
    "    arc(t, r, 360)"
   ],
   "metadata": {
    "collapsed": false,
    "pycharm": {
     "name": "#%%\n"
    }
   }
  },
  {
   "cell_type": "code",
   "execution_count": 19,
   "outputs": [],
   "source": [
    "def polyline(t, n, length, angle):\n",
    "    \"\"\"\n",
    "    Draws n line segments with the given length and\n",
    "    angle (in degrees) between them.  t is a turtle.\n",
    "    \"\"\"\n",
    "    for i in range(n):\n",
    "        t.fd(length)\n",
    "        t.lt(angle)"
   ],
   "metadata": {
    "collapsed": false,
    "pycharm": {
     "name": "#%%\n"
    }
   }
  },
  {
   "cell_type": "code",
   "execution_count": null,
   "outputs": [],
   "source": [
    "\n"
   ],
   "metadata": {
    "collapsed": false,
    "pycharm": {
     "name": "#%%\n"
    }
   }
  }
 ],
 "metadata": {
  "kernelspec": {
   "display_name": "Python 3",
   "language": "python",
   "name": "python3"
  },
  "language_info": {
   "codemirror_mode": {
    "name": "ipython",
    "version": 2
   },
   "file_extension": ".py",
   "mimetype": "text/x-python",
   "name": "python",
   "nbconvert_exporter": "python",
   "pygments_lexer": "ipython2",
   "version": "2.7.6"
  }
 },
 "nbformat": 4,
 "nbformat_minor": 0
}